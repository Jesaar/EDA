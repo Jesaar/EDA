{
 "cells": [
  {
   "cell_type": "markdown",
   "id": "24aca901",
   "metadata": {},
   "source": [
    "# **Fase 2: Análisis Exploratorio de Datos (EDA)**"
   ]
  },
  {
   "cell_type": "markdown",
   "id": "443f4974",
   "metadata": {},
   "source": [
    "### Cargar datos"
   ]
  },
  {
   "cell_type": "code",
   "execution_count": 1,
   "id": "23357026",
   "metadata": {},
   "outputs": [],
   "source": [
    "import pandas as pd\n",
    "import matplotlib.pyplot as plt\n",
    "import seaborn as sns\n",
    "from matplotlib.colors import ListedColormap\n",
    "import matplotlib.patches as mpatches\n"
   ]
  },
  {
   "cell_type": "code",
   "execution_count": 2,
   "id": "8630837a",
   "metadata": {},
   "outputs": [
    {
     "name": "stdout",
     "output_type": "stream",
     "text": [
      "(17808, 2)\n"
     ]
    },
    {
     "data": {
      "text/html": [
       "<div>\n",
       "<style scoped>\n",
       "    .dataframe tbody tr th:only-of-type {\n",
       "        vertical-align: middle;\n",
       "    }\n",
       "\n",
       "    .dataframe tbody tr th {\n",
       "        vertical-align: top;\n",
       "    }\n",
       "\n",
       "    .dataframe thead th {\n",
       "        text-align: right;\n",
       "    }\n",
       "</style>\n",
       "<table border=\"1\" class=\"dataframe\">\n",
       "  <thead>\n",
       "    <tr style=\"text-align: right;\">\n",
       "      <th></th>\n",
       "      <th>totalRegistros</th>\n",
       "      <th>medicamentos</th>\n",
       "    </tr>\n",
       "  </thead>\n",
       "  <tbody>\n",
       "    <tr>\n",
       "      <th>0</th>\n",
       "      <td>17808</td>\n",
       "      <td>{'apresentacoes': [{'codigo': 1587717, 'aprese...</td>\n",
       "    </tr>\n",
       "    <tr>\n",
       "      <th>1</th>\n",
       "      <td>17808</td>\n",
       "      <td>{'apresentacoes': [{'codigo': 2061908, 'aprese...</td>\n",
       "    </tr>\n",
       "    <tr>\n",
       "      <th>2</th>\n",
       "      <td>17808</td>\n",
       "      <td>{'apresentacoes': [{'codigo': 1743337, 'aprese...</td>\n",
       "    </tr>\n",
       "    <tr>\n",
       "      <th>3</th>\n",
       "      <td>17808</td>\n",
       "      <td>{'apresentacoes': [{'codigo': 404393311, 'apre...</td>\n",
       "    </tr>\n",
       "    <tr>\n",
       "      <th>4</th>\n",
       "      <td>17808</td>\n",
       "      <td>{'apresentacoes': [{'codigo': 1708796, 'aprese...</td>\n",
       "    </tr>\n",
       "  </tbody>\n",
       "</table>\n",
       "</div>"
      ],
      "text/plain": [
       "   totalRegistros                                       medicamentos\n",
       "0           17808  {'apresentacoes': [{'codigo': 1587717, 'aprese...\n",
       "1           17808  {'apresentacoes': [{'codigo': 2061908, 'aprese...\n",
       "2           17808  {'apresentacoes': [{'codigo': 1743337, 'aprese...\n",
       "3           17808  {'apresentacoes': [{'codigo': 404393311, 'apre...\n",
       "4           17808  {'apresentacoes': [{'codigo': 1708796, 'aprese..."
      ]
     },
     "execution_count": 2,
     "metadata": {},
     "output_type": "execute_result"
    }
   ],
   "source": [
    "df = pd.read_json(\"medicamentos.json\")\n",
    "print(df.shape)\n",
    "df.head()"
   ]
  },
  {
   "cell_type": "code",
   "execution_count": 3,
   "id": "53c0a8da",
   "metadata": {},
   "outputs": [
    {
     "data": {
      "text/html": [
       "<div>\n",
       "<style scoped>\n",
       "    .dataframe tbody tr th:only-of-type {\n",
       "        vertical-align: middle;\n",
       "    }\n",
       "\n",
       "    .dataframe tbody tr th {\n",
       "        vertical-align: top;\n",
       "    }\n",
       "\n",
       "    .dataframe thead th {\n",
       "        text-align: right;\n",
       "    }\n",
       "</style>\n",
       "<table border=\"1\" class=\"dataframe\">\n",
       "  <thead>\n",
       "    <tr style=\"text-align: right;\">\n",
       "      <th></th>\n",
       "      <th>apresentacoes</th>\n",
       "      <th>id</th>\n",
       "      <th>codigo</th>\n",
       "      <th>numeroRegistro</th>\n",
       "      <th>nomeProduto</th>\n",
       "      <th>numeroProcesso</th>\n",
       "      <th>empresaNome</th>\n",
       "      <th>empresaCnpj</th>\n",
       "      <th>principioAtivo</th>\n",
       "      <th>tarja</th>\n",
       "      <th>...</th>\n",
       "      <th>bula_txt</th>\n",
       "      <th>bula_pdf</th>\n",
       "      <th>bula_txt_profissional</th>\n",
       "      <th>bula_pdf_profissional</th>\n",
       "      <th>categoriaRegulatoria</th>\n",
       "      <th>situacaoRegistro</th>\n",
       "      <th>dataProduto</th>\n",
       "      <th>dataVencimentoRegistro</th>\n",
       "      <th>dataPublicacao</th>\n",
       "      <th>indicacao</th>\n",
       "    </tr>\n",
       "  </thead>\n",
       "  <tbody>\n",
       "    <tr>\n",
       "      <th>0</th>\n",
       "      <td>[{'codigo': 1587717, 'apresentacao': '0,8 MG/M...</td>\n",
       "      <td>1</td>\n",
       "      <td>1012584</td>\n",
       "      <td>188300060</td>\n",
       "      <td>ácido zoledrônico</td>\n",
       "      <td>25351771065201417</td>\n",
       "      <td>VIATRIS FARMACEUTICA DO BRASIL LTDA</td>\n",
       "      <td>11643096000122</td>\n",
       "      <td>ÁCIDO ZOLEDRÔNICO MONOIDRATADO</td>\n",
       "      <td>Vermelha sob restrição</td>\n",
       "      <td>...</td>\n",
       "      <td>\\n\\n \\n \\n \\n \\n \\n \\n \\n \\n \\n \\n \\n \\n \\n \\n...</td>\n",
       "      <td>repo/storage/25351771065201417_paciente.pdf</td>\n",
       "      <td>\\n\\n \\n \\n \\n \\n \\n \\n \\n \\n \\n \\n \\n \\n \\n \\n...</td>\n",
       "      <td>repo/storage/25351771065201417_profissional.pdf</td>\n",
       "      <td>Genérico</td>\n",
       "      <td>ATIVO</td>\n",
       "      <td>2018-10-01T03:00:00.000Z</td>\n",
       "      <td>2028-10-01T03:00:00.000Z</td>\n",
       "      <td>2024-08-07T11:18:54.000Z</td>\n",
       "      <td></td>\n",
       "    </tr>\n",
       "    <tr>\n",
       "      <th>1</th>\n",
       "      <td>[{'codigo': 2061908, 'apresentacao': '150 MG C...</td>\n",
       "      <td>2</td>\n",
       "      <td>1595612</td>\n",
       "      <td>123520278</td>\n",
       "      <td>ácido ursodesoxicólico</td>\n",
       "      <td>25351843204202031</td>\n",
       "      <td>RANBAXY FARMACÊUTICA LTDA</td>\n",
       "      <td>73663650000190</td>\n",
       "      <td>ÁCIDO URSODESOXICÓLICO</td>\n",
       "      <td>Vermelha</td>\n",
       "      <td>...</td>\n",
       "      <td>\\n\\n                                          ...</td>\n",
       "      <td>repo/storage/25351843204202031_paciente.pdf</td>\n",
       "      <td>\\n\\n                                          ...</td>\n",
       "      <td>repo/storage/25351843204202031_profissional.pdf</td>\n",
       "      <td>Genérico</td>\n",
       "      <td>ATIVO</td>\n",
       "      <td>2020-10-26T03:00:00.000Z</td>\n",
       "      <td>2030-07-01T03:00:00.000Z</td>\n",
       "      <td>2024-12-19T13:42:22.000Z</td>\n",
       "      <td></td>\n",
       "    </tr>\n",
       "    <tr>\n",
       "      <th>2</th>\n",
       "      <td>[{'codigo': 1743337, 'apresentacao': '250 MG C...</td>\n",
       "      <td>3</td>\n",
       "      <td>1250613</td>\n",
       "      <td>109740258</td>\n",
       "      <td>ácido valpróico</td>\n",
       "      <td>25351114943201805</td>\n",
       "      <td>BIOLAB SANUS FARMACÊUTICA LTDA</td>\n",
       "      <td>49475833000106</td>\n",
       "      <td>VALPROATO DE SÓDIO, ÁCIDO VALPRÓICO</td>\n",
       "      <td>Vermelha sob restrição</td>\n",
       "      <td>...</td>\n",
       "      <td>\\n\\n \\n \\n \\n \\n \\n \\n \\n \\n \\n \\n \\n \\n \\náci...</td>\n",
       "      <td>repo/storage/25351114943201805_paciente.pdf</td>\n",
       "      <td>\\n\\n \\n \\n \\n \\n \\n \\n \\n \\n \\n \\n \\n \\nácido ...</td>\n",
       "      <td>repo/storage/25351114943201805_profissional.pdf</td>\n",
       "      <td>Genérico</td>\n",
       "      <td>ATIVO</td>\n",
       "      <td>2018-05-28T03:00:00.000Z</td>\n",
       "      <td>2028-05-01T03:00:00.000Z</td>\n",
       "      <td>2024-12-12T11:57:27.000Z</td>\n",
       "      <td></td>\n",
       "    </tr>\n",
       "    <tr>\n",
       "      <th>3</th>\n",
       "      <td>[{'codigo': 404393311, 'apresentacao': '20 MG/...</td>\n",
       "      <td>4</td>\n",
       "      <td>3482995</td>\n",
       "      <td>118190298</td>\n",
       "      <td>ácido fusídico + valerato de betametasona</td>\n",
       "      <td>25351063014202207</td>\n",
       "      <td>MULTILAB INDUSTRIA E COMERCIO DE PRODUTOS FARM...</td>\n",
       "      <td>92265552000905</td>\n",
       "      <td>ÁCIDO FUSÍDICO, VALERATO DE BETAMETASONA</td>\n",
       "      <td>Vermelha sob restrição</td>\n",
       "      <td>...</td>\n",
       "      <td>\\n\\n \\n \\n \\n \\n \\n \\n \\n \\n \\n \\n \\n \\n \\náci...</td>\n",
       "      <td>repo/storage/25351063014202207_paciente.pdf</td>\n",
       "      <td>\\n\\n \\n \\n \\n \\n \\n \\n \\n \\n \\n \\n \\n \\n \\n \\n...</td>\n",
       "      <td>repo/storage/25351063014202207_profissional.pdf</td>\n",
       "      <td>Genérico</td>\n",
       "      <td>ATIVO</td>\n",
       "      <td>2022-08-08T03:00:00.000Z</td>\n",
       "      <td>2029-10-01T03:00:00.000Z</td>\n",
       "      <td>2024-06-06T20:53:54.000Z</td>\n",
       "      <td></td>\n",
       "    </tr>\n",
       "    <tr>\n",
       "      <th>4</th>\n",
       "      <td>[{'codigo': 1708796, 'apresentacao': '20 MG CO...</td>\n",
       "      <td>5</td>\n",
       "      <td>1177203</td>\n",
       "      <td>100431217</td>\n",
       "      <td>ÉSIO</td>\n",
       "      <td>25351318508201769</td>\n",
       "      <td>EUROFARMA LABORATÓRIOS S.A.</td>\n",
       "      <td>61190096000192</td>\n",
       "      <td>ESOMEPRAZOL MAGNÉSICO</td>\n",
       "      <td>Vermelha</td>\n",
       "      <td>...</td>\n",
       "      <td>\\n\\n \\nÉsio_com rev lib retard_VP_V04  \\n     ...</td>\n",
       "      <td>repo/storage/25351318508201769_paciente.pdf</td>\n",
       "      <td>\\n\\n \\nÉsio_com rev lib retard_VPS_V04  \\n \\n ...</td>\n",
       "      <td>repo/storage/25351318508201769_profissional.pdf</td>\n",
       "      <td>Similar</td>\n",
       "      <td>ATIVO</td>\n",
       "      <td>2017-07-17T03:00:00.000Z</td>\n",
       "      <td>2027-07-01T03:00:00.000Z</td>\n",
       "      <td>2021-08-30T14:06:57.000Z</td>\n",
       "      <td></td>\n",
       "    </tr>\n",
       "  </tbody>\n",
       "</table>\n",
       "<p>5 rows × 22 columns</p>\n",
       "</div>"
      ],
      "text/plain": [
       "                                       apresentacoes  id   codigo  \\\n",
       "0  [{'codigo': 1587717, 'apresentacao': '0,8 MG/M...   1  1012584   \n",
       "1  [{'codigo': 2061908, 'apresentacao': '150 MG C...   2  1595612   \n",
       "2  [{'codigo': 1743337, 'apresentacao': '250 MG C...   3  1250613   \n",
       "3  [{'codigo': 404393311, 'apresentacao': '20 MG/...   4  3482995   \n",
       "4  [{'codigo': 1708796, 'apresentacao': '20 MG CO...   5  1177203   \n",
       "\n",
       "  numeroRegistro                                nomeProduto  \\\n",
       "0      188300060                          ácido zoledrônico   \n",
       "1      123520278                     ácido ursodesoxicólico   \n",
       "2      109740258                            ácido valpróico   \n",
       "3      118190298  ácido fusídico + valerato de betametasona   \n",
       "4      100431217                                       ÉSIO   \n",
       "\n",
       "      numeroProcesso                                        empresaNome  \\\n",
       "0  25351771065201417                VIATRIS FARMACEUTICA DO BRASIL LTDA   \n",
       "1  25351843204202031                          RANBAXY FARMACÊUTICA LTDA   \n",
       "2  25351114943201805                     BIOLAB SANUS FARMACÊUTICA LTDA   \n",
       "3  25351063014202207  MULTILAB INDUSTRIA E COMERCIO DE PRODUTOS FARM...   \n",
       "4  25351318508201769                        EUROFARMA LABORATÓRIOS S.A.   \n",
       "\n",
       "      empresaCnpj                            principioAtivo  \\\n",
       "0  11643096000122            ÁCIDO ZOLEDRÔNICO MONOIDRATADO   \n",
       "1  73663650000190                    ÁCIDO URSODESOXICÓLICO   \n",
       "2  49475833000106       VALPROATO DE SÓDIO, ÁCIDO VALPRÓICO   \n",
       "3  92265552000905  ÁCIDO FUSÍDICO, VALERATO DE BETAMETASONA   \n",
       "4  61190096000192                     ESOMEPRAZOL MAGNÉSICO   \n",
       "\n",
       "                    tarja  ...  \\\n",
       "0  Vermelha sob restrição  ...   \n",
       "1                Vermelha  ...   \n",
       "2  Vermelha sob restrição  ...   \n",
       "3  Vermelha sob restrição  ...   \n",
       "4                Vermelha  ...   \n",
       "\n",
       "                                            bula_txt  \\\n",
       "0  \\n\\n \\n \\n \\n \\n \\n \\n \\n \\n \\n \\n \\n \\n \\n \\n...   \n",
       "1  \\n\\n                                          ...   \n",
       "2  \\n\\n \\n \\n \\n \\n \\n \\n \\n \\n \\n \\n \\n \\n \\náci...   \n",
       "3  \\n\\n \\n \\n \\n \\n \\n \\n \\n \\n \\n \\n \\n \\n \\náci...   \n",
       "4  \\n\\n \\nÉsio_com rev lib retard_VP_V04  \\n     ...   \n",
       "\n",
       "                                      bula_pdf  \\\n",
       "0  repo/storage/25351771065201417_paciente.pdf   \n",
       "1  repo/storage/25351843204202031_paciente.pdf   \n",
       "2  repo/storage/25351114943201805_paciente.pdf   \n",
       "3  repo/storage/25351063014202207_paciente.pdf   \n",
       "4  repo/storage/25351318508201769_paciente.pdf   \n",
       "\n",
       "                               bula_txt_profissional  \\\n",
       "0  \\n\\n \\n \\n \\n \\n \\n \\n \\n \\n \\n \\n \\n \\n \\n \\n...   \n",
       "1  \\n\\n                                          ...   \n",
       "2  \\n\\n \\n \\n \\n \\n \\n \\n \\n \\n \\n \\n \\n \\nácido ...   \n",
       "3  \\n\\n \\n \\n \\n \\n \\n \\n \\n \\n \\n \\n \\n \\n \\n \\n...   \n",
       "4  \\n\\n \\nÉsio_com rev lib retard_VPS_V04  \\n \\n ...   \n",
       "\n",
       "                             bula_pdf_profissional categoriaRegulatoria  \\\n",
       "0  repo/storage/25351771065201417_profissional.pdf             Genérico   \n",
       "1  repo/storage/25351843204202031_profissional.pdf             Genérico   \n",
       "2  repo/storage/25351114943201805_profissional.pdf             Genérico   \n",
       "3  repo/storage/25351063014202207_profissional.pdf             Genérico   \n",
       "4  repo/storage/25351318508201769_profissional.pdf              Similar   \n",
       "\n",
       "  situacaoRegistro               dataProduto    dataVencimentoRegistro  \\\n",
       "0            ATIVO  2018-10-01T03:00:00.000Z  2028-10-01T03:00:00.000Z   \n",
       "1            ATIVO  2020-10-26T03:00:00.000Z  2030-07-01T03:00:00.000Z   \n",
       "2            ATIVO  2018-05-28T03:00:00.000Z  2028-05-01T03:00:00.000Z   \n",
       "3            ATIVO  2022-08-08T03:00:00.000Z  2029-10-01T03:00:00.000Z   \n",
       "4            ATIVO  2017-07-17T03:00:00.000Z  2027-07-01T03:00:00.000Z   \n",
       "\n",
       "             dataPublicacao indicacao  \n",
       "0  2024-08-07T11:18:54.000Z            \n",
       "1  2024-12-19T13:42:22.000Z            \n",
       "2  2024-12-12T11:57:27.000Z            \n",
       "3  2024-06-06T20:53:54.000Z            \n",
       "4  2021-08-30T14:06:57.000Z            \n",
       "\n",
       "[5 rows x 22 columns]"
      ]
     },
     "execution_count": 3,
     "metadata": {},
     "output_type": "execute_result"
    }
   ],
   "source": [
    "df_normalizado = pd.json_normalize(df['medicamentos'])\n",
    "df_normalizado.head(5)"
   ]
  },
  {
   "cell_type": "code",
   "execution_count": 4,
   "id": "7dfb722e",
   "metadata": {},
   "outputs": [
    {
     "data": {
      "text/plain": [
       "apresentacoes             object\n",
       "id                         int64\n",
       "codigo                    object\n",
       "numeroRegistro            object\n",
       "nomeProduto               object\n",
       "numeroProcesso            object\n",
       "empresaNome               object\n",
       "empresaCnpj               object\n",
       "principioAtivo            object\n",
       "tarja                     object\n",
       "medicamentoReferencia     object\n",
       "classesTerapeuticas       object\n",
       "bula_txt                  object\n",
       "bula_pdf                  object\n",
       "bula_txt_profissional     object\n",
       "bula_pdf_profissional     object\n",
       "categoriaRegulatoria      object\n",
       "situacaoRegistro          object\n",
       "dataProduto               object\n",
       "dataVencimentoRegistro    object\n",
       "dataPublicacao            object\n",
       "indicacao                 object\n",
       "dtype: object"
      ]
     },
     "execution_count": 4,
     "metadata": {},
     "output_type": "execute_result"
    }
   ],
   "source": [
    "df_normalizado.dtypes"
   ]
  },
  {
   "cell_type": "code",
   "execution_count": 5,
   "id": "16df9999",
   "metadata": {},
   "outputs": [],
   "source": [
    "# 1) Explota la lista de dicts\n",
    "df_exp = df_normalizado.explode('apresentacoes', ignore_index=True)\n",
    "\n",
    "# 2) Normaliza los dicts de 'apresentacoes' (sep='.' para aplanar niveles)\n",
    "df_apr = pd.json_normalize(df_exp['apresentacoes'], sep='.')\n",
    "\n",
    "# 3) Detecta columnas duplicadas respecto a las originales\n",
    "orig_cols = set(df_exp.columns) - {'apresentacoes'}   # todas menos la anidada\n",
    "dup_cols  = orig_cols.intersection(df_apr.columns)    # choques (p. ej. 'codigo', 'tarja', ...)\n",
    "\n",
    "# 4) Renombra solo las duplicadas con el prefijo 'apresentacoes.'\n",
    "df_apr = df_apr.rename(columns={c: f\"apresentacoes.{c}\" for c in dup_cols})\n",
    "\n",
    "# 5) Concatena, conservando columnas originales y las expandidas\n",
    "df_final = pd.concat([df_exp.drop(columns=['apresentacoes']), df_apr], axis=1)"
   ]
  },
  {
   "cell_type": "code",
   "execution_count": 6,
   "id": "9a49ac53",
   "metadata": {},
   "outputs": [
    {
     "data": {
      "text/html": [
       "<div>\n",
       "<style scoped>\n",
       "    .dataframe tbody tr th:only-of-type {\n",
       "        vertical-align: middle;\n",
       "    }\n",
       "\n",
       "    .dataframe tbody tr th {\n",
       "        vertical-align: top;\n",
       "    }\n",
       "\n",
       "    .dataframe thead th {\n",
       "        text-align: right;\n",
       "    }\n",
       "</style>\n",
       "<table border=\"1\" class=\"dataframe\">\n",
       "  <thead>\n",
       "    <tr style=\"text-align: right;\">\n",
       "      <th></th>\n",
       "      <th>id</th>\n",
       "      <th>codigo</th>\n",
       "      <th>numeroRegistro</th>\n",
       "      <th>nomeProduto</th>\n",
       "      <th>numeroProcesso</th>\n",
       "      <th>empresaNome</th>\n",
       "      <th>empresaCnpj</th>\n",
       "      <th>principioAtivo</th>\n",
       "      <th>tarja</th>\n",
       "      <th>medicamentoReferencia</th>\n",
       "      <th>...</th>\n",
       "      <th>apresentacoes.medicamentoReferencia</th>\n",
       "      <th>apresentacaoFracionada</th>\n",
       "      <th>apresentacoes.dataVencimentoRegistro</th>\n",
       "      <th>tipoAutorizacao</th>\n",
       "      <th>ativa</th>\n",
       "      <th>emAnalise</th>\n",
       "      <th>inativa</th>\n",
       "      <th>embalagemSecundaria.tipo</th>\n",
       "      <th>embalagemSecundaria.observacao</th>\n",
       "      <th>embalagemSecundaria</th>\n",
       "    </tr>\n",
       "  </thead>\n",
       "  <tbody>\n",
       "    <tr>\n",
       "      <th>0</th>\n",
       "      <td>1</td>\n",
       "      <td>1012584</td>\n",
       "      <td>188300060</td>\n",
       "      <td>ácido zoledrônico</td>\n",
       "      <td>25351771065201417</td>\n",
       "      <td>VIATRIS FARMACEUTICA DO BRASIL LTDA</td>\n",
       "      <td>11643096000122</td>\n",
       "      <td>ÁCIDO ZOLEDRÔNICO MONOIDRATADO</td>\n",
       "      <td>Vermelha sob restrição</td>\n",
       "      <td>ZOMETA</td>\n",
       "      <td>...</td>\n",
       "      <td>N</td>\n",
       "      <td>N</td>\n",
       "      <td>NaN</td>\n",
       "      <td>REGISTRADO</td>\n",
       "      <td>True</td>\n",
       "      <td>False</td>\n",
       "      <td>False</td>\n",
       "      <td>Cartucho</td>\n",
       "      <td>Cartucho de cartolina</td>\n",
       "      <td>NaN</td>\n",
       "    </tr>\n",
       "    <tr>\n",
       "      <th>1</th>\n",
       "      <td>1</td>\n",
       "      <td>1012584</td>\n",
       "      <td>188300060</td>\n",
       "      <td>ácido zoledrônico</td>\n",
       "      <td>25351771065201417</td>\n",
       "      <td>VIATRIS FARMACEUTICA DO BRASIL LTDA</td>\n",
       "      <td>11643096000122</td>\n",
       "      <td>ÁCIDO ZOLEDRÔNICO MONOIDRATADO</td>\n",
       "      <td>Vermelha sob restrição</td>\n",
       "      <td>ZOMETA</td>\n",
       "      <td>...</td>\n",
       "      <td>N</td>\n",
       "      <td>N</td>\n",
       "      <td>NaN</td>\n",
       "      <td>REGISTRADO</td>\n",
       "      <td>True</td>\n",
       "      <td>False</td>\n",
       "      <td>False</td>\n",
       "      <td>Cartucho</td>\n",
       "      <td>Cartucho de cartolina</td>\n",
       "      <td>NaN</td>\n",
       "    </tr>\n",
       "    <tr>\n",
       "      <th>2</th>\n",
       "      <td>1</td>\n",
       "      <td>1012584</td>\n",
       "      <td>188300060</td>\n",
       "      <td>ácido zoledrônico</td>\n",
       "      <td>25351771065201417</td>\n",
       "      <td>VIATRIS FARMACEUTICA DO BRASIL LTDA</td>\n",
       "      <td>11643096000122</td>\n",
       "      <td>ÁCIDO ZOLEDRÔNICO MONOIDRATADO</td>\n",
       "      <td>Vermelha sob restrição</td>\n",
       "      <td>ZOMETA</td>\n",
       "      <td>...</td>\n",
       "      <td>N</td>\n",
       "      <td>N</td>\n",
       "      <td>NaN</td>\n",
       "      <td>REGISTRADO</td>\n",
       "      <td>True</td>\n",
       "      <td>False</td>\n",
       "      <td>False</td>\n",
       "      <td>Cartucho</td>\n",
       "      <td>Cartucho de cartolina</td>\n",
       "      <td>NaN</td>\n",
       "    </tr>\n",
       "    <tr>\n",
       "      <th>3</th>\n",
       "      <td>2</td>\n",
       "      <td>1595612</td>\n",
       "      <td>123520278</td>\n",
       "      <td>ácido ursodesoxicólico</td>\n",
       "      <td>25351843204202031</td>\n",
       "      <td>RANBAXY FARMACÊUTICA LTDA</td>\n",
       "      <td>73663650000190</td>\n",
       "      <td>ÁCIDO URSODESOXICÓLICO</td>\n",
       "      <td>Vermelha</td>\n",
       "      <td>Ursacol®</td>\n",
       "      <td>...</td>\n",
       "      <td>N</td>\n",
       "      <td>N</td>\n",
       "      <td>NaN</td>\n",
       "      <td>REGISTRADO</td>\n",
       "      <td>True</td>\n",
       "      <td>False</td>\n",
       "      <td>False</td>\n",
       "      <td>Cartucho</td>\n",
       "      <td>Cartucho de Cartolina</td>\n",
       "      <td>NaN</td>\n",
       "    </tr>\n",
       "    <tr>\n",
       "      <th>4</th>\n",
       "      <td>2</td>\n",
       "      <td>1595612</td>\n",
       "      <td>123520278</td>\n",
       "      <td>ácido ursodesoxicólico</td>\n",
       "      <td>25351843204202031</td>\n",
       "      <td>RANBAXY FARMACÊUTICA LTDA</td>\n",
       "      <td>73663650000190</td>\n",
       "      <td>ÁCIDO URSODESOXICÓLICO</td>\n",
       "      <td>Vermelha</td>\n",
       "      <td>Ursacol®</td>\n",
       "      <td>...</td>\n",
       "      <td>N</td>\n",
       "      <td>N</td>\n",
       "      <td>NaN</td>\n",
       "      <td>REGISTRADO</td>\n",
       "      <td>True</td>\n",
       "      <td>False</td>\n",
       "      <td>False</td>\n",
       "      <td>Cartucho</td>\n",
       "      <td>Cartucho de Cartolina</td>\n",
       "      <td>NaN</td>\n",
       "    </tr>\n",
       "    <tr>\n",
       "      <th>...</th>\n",
       "      <td>...</td>\n",
       "      <td>...</td>\n",
       "      <td>...</td>\n",
       "      <td>...</td>\n",
       "      <td>...</td>\n",
       "      <td>...</td>\n",
       "      <td>...</td>\n",
       "      <td>...</td>\n",
       "      <td>...</td>\n",
       "      <td>...</td>\n",
       "      <td>...</td>\n",
       "      <td>...</td>\n",
       "      <td>...</td>\n",
       "      <td>...</td>\n",
       "      <td>...</td>\n",
       "      <td>...</td>\n",
       "      <td>...</td>\n",
       "      <td>...</td>\n",
       "      <td>...</td>\n",
       "      <td>...</td>\n",
       "      <td>...</td>\n",
       "    </tr>\n",
       "    <tr>\n",
       "      <th>60762</th>\n",
       "      <td>17805</td>\n",
       "      <td>None</td>\n",
       "      <td>None</td>\n",
       "      <td>Florbetaben (18F)</td>\n",
       "      <td>25351378833202167</td>\n",
       "      <td>UNIÃO BRASILEIRA DE EDUCAÇÃO E ASSISTÊNCIA</td>\n",
       "      <td>88630413000109</td>\n",
       "      <td>None</td>\n",
       "      <td>None</td>\n",
       "      <td>None</td>\n",
       "      <td>...</td>\n",
       "      <td>NaN</td>\n",
       "      <td>NaN</td>\n",
       "      <td>NaN</td>\n",
       "      <td>NaN</td>\n",
       "      <td>NaN</td>\n",
       "      <td>NaN</td>\n",
       "      <td>NaN</td>\n",
       "      <td>NaN</td>\n",
       "      <td>NaN</td>\n",
       "      <td>NaN</td>\n",
       "    </tr>\n",
       "    <tr>\n",
       "      <th>60763</th>\n",
       "      <td>17806</td>\n",
       "      <td>None</td>\n",
       "      <td>None</td>\n",
       "      <td>Gallium-68</td>\n",
       "      <td>25351540996202256</td>\n",
       "      <td>R2 SOLUÇÕES EM RADIOFARMÁCIA</td>\n",
       "      <td>09240065000340</td>\n",
       "      <td>OCTREOTIDA NOTA ALUMÍNIO (18 F)</td>\n",
       "      <td>None</td>\n",
       "      <td>None</td>\n",
       "      <td>...</td>\n",
       "      <td>NaN</td>\n",
       "      <td>NaN</td>\n",
       "      <td>NaN</td>\n",
       "      <td>NaN</td>\n",
       "      <td>NaN</td>\n",
       "      <td>NaN</td>\n",
       "      <td>NaN</td>\n",
       "      <td>NaN</td>\n",
       "      <td>NaN</td>\n",
       "      <td>NaN</td>\n",
       "    </tr>\n",
       "    <tr>\n",
       "      <th>60764</th>\n",
       "      <td>17807</td>\n",
       "      <td>None</td>\n",
       "      <td>None</td>\n",
       "      <td>PIB (11C)</td>\n",
       "      <td>25351640125202151</td>\n",
       "      <td>HOSPITAL DAS CLINICAS DA FACULDADE DE MEDICINA...</td>\n",
       "      <td>60448040000122</td>\n",
       "      <td>PIBENZOTIAZOL (11 C)</td>\n",
       "      <td>None</td>\n",
       "      <td>None</td>\n",
       "      <td>...</td>\n",
       "      <td>NaN</td>\n",
       "      <td>NaN</td>\n",
       "      <td>NaN</td>\n",
       "      <td>NaN</td>\n",
       "      <td>NaN</td>\n",
       "      <td>NaN</td>\n",
       "      <td>NaN</td>\n",
       "      <td>NaN</td>\n",
       "      <td>NaN</td>\n",
       "      <td>NaN</td>\n",
       "    </tr>\n",
       "    <tr>\n",
       "      <th>60765</th>\n",
       "      <td>17808</td>\n",
       "      <td>None</td>\n",
       "      <td>None</td>\n",
       "      <td>PSMA - 1007 (18F)</td>\n",
       "      <td>25351140602202263</td>\n",
       "      <td>IBF</td>\n",
       "      <td>14864868000144</td>\n",
       "      <td>AMESPRO FLUORNICOTINAMIDA (18 F)</td>\n",
       "      <td>None</td>\n",
       "      <td>None</td>\n",
       "      <td>...</td>\n",
       "      <td>NaN</td>\n",
       "      <td>NaN</td>\n",
       "      <td>NaN</td>\n",
       "      <td>NaN</td>\n",
       "      <td>NaN</td>\n",
       "      <td>NaN</td>\n",
       "      <td>NaN</td>\n",
       "      <td>NaN</td>\n",
       "      <td>NaN</td>\n",
       "      <td>NaN</td>\n",
       "    </tr>\n",
       "    <tr>\n",
       "      <th>60766</th>\n",
       "      <td>17809</td>\n",
       "      <td>None</td>\n",
       "      <td>None</td>\n",
       "      <td>PSMA11 (68Ga)</td>\n",
       "      <td>25351640147202111</td>\n",
       "      <td>HOSPITAL DAS CLINICAS DA FACULDADE DE MEDICINA...</td>\n",
       "      <td>60448040000122</td>\n",
       "      <td>GÁLIO (68 GA)</td>\n",
       "      <td>None</td>\n",
       "      <td>None</td>\n",
       "      <td>...</td>\n",
       "      <td>NaN</td>\n",
       "      <td>NaN</td>\n",
       "      <td>NaN</td>\n",
       "      <td>NaN</td>\n",
       "      <td>NaN</td>\n",
       "      <td>NaN</td>\n",
       "      <td>NaN</td>\n",
       "      <td>NaN</td>\n",
       "      <td>NaN</td>\n",
       "      <td>NaN</td>\n",
       "    </tr>\n",
       "  </tbody>\n",
       "</table>\n",
       "<p>60767 rows × 60 columns</p>\n",
       "</div>"
      ],
      "text/plain": [
       "          id   codigo numeroRegistro             nomeProduto  \\\n",
       "0          1  1012584      188300060       ácido zoledrônico   \n",
       "1          1  1012584      188300060       ácido zoledrônico   \n",
       "2          1  1012584      188300060       ácido zoledrônico   \n",
       "3          2  1595612      123520278  ácido ursodesoxicólico   \n",
       "4          2  1595612      123520278  ácido ursodesoxicólico   \n",
       "...      ...      ...            ...                     ...   \n",
       "60762  17805     None           None       Florbetaben (18F)   \n",
       "60763  17806     None           None              Gallium-68   \n",
       "60764  17807     None           None               PIB (11C)   \n",
       "60765  17808     None           None       PSMA - 1007 (18F)   \n",
       "60766  17809     None           None           PSMA11 (68Ga)   \n",
       "\n",
       "          numeroProcesso                                        empresaNome  \\\n",
       "0      25351771065201417                VIATRIS FARMACEUTICA DO BRASIL LTDA   \n",
       "1      25351771065201417                VIATRIS FARMACEUTICA DO BRASIL LTDA   \n",
       "2      25351771065201417                VIATRIS FARMACEUTICA DO BRASIL LTDA   \n",
       "3      25351843204202031                          RANBAXY FARMACÊUTICA LTDA   \n",
       "4      25351843204202031                          RANBAXY FARMACÊUTICA LTDA   \n",
       "...                  ...                                                ...   \n",
       "60762  25351378833202167         UNIÃO BRASILEIRA DE EDUCAÇÃO E ASSISTÊNCIA   \n",
       "60763  25351540996202256                       R2 SOLUÇÕES EM RADIOFARMÁCIA   \n",
       "60764  25351640125202151  HOSPITAL DAS CLINICAS DA FACULDADE DE MEDICINA...   \n",
       "60765  25351140602202263                                                IBF   \n",
       "60766  25351640147202111  HOSPITAL DAS CLINICAS DA FACULDADE DE MEDICINA...   \n",
       "\n",
       "          empresaCnpj                    principioAtivo  \\\n",
       "0      11643096000122    ÁCIDO ZOLEDRÔNICO MONOIDRATADO   \n",
       "1      11643096000122    ÁCIDO ZOLEDRÔNICO MONOIDRATADO   \n",
       "2      11643096000122    ÁCIDO ZOLEDRÔNICO MONOIDRATADO   \n",
       "3      73663650000190            ÁCIDO URSODESOXICÓLICO   \n",
       "4      73663650000190            ÁCIDO URSODESOXICÓLICO   \n",
       "...               ...                               ...   \n",
       "60762  88630413000109                              None   \n",
       "60763  09240065000340   OCTREOTIDA NOTA ALUMÍNIO (18 F)   \n",
       "60764  60448040000122              PIBENZOTIAZOL (11 C)   \n",
       "60765  14864868000144  AMESPRO FLUORNICOTINAMIDA (18 F)   \n",
       "60766  60448040000122                     GÁLIO (68 GA)   \n",
       "\n",
       "                        tarja medicamentoReferencia  ...  \\\n",
       "0      Vermelha sob restrição                ZOMETA  ...   \n",
       "1      Vermelha sob restrição                ZOMETA  ...   \n",
       "2      Vermelha sob restrição                ZOMETA  ...   \n",
       "3                    Vermelha              Ursacol®  ...   \n",
       "4                    Vermelha              Ursacol®  ...   \n",
       "...                       ...                   ...  ...   \n",
       "60762                    None                  None  ...   \n",
       "60763                    None                  None  ...   \n",
       "60764                    None                  None  ...   \n",
       "60765                    None                  None  ...   \n",
       "60766                    None                  None  ...   \n",
       "\n",
       "      apresentacoes.medicamentoReferencia apresentacaoFracionada  \\\n",
       "0                                       N                      N   \n",
       "1                                       N                      N   \n",
       "2                                       N                      N   \n",
       "3                                       N                      N   \n",
       "4                                       N                      N   \n",
       "...                                   ...                    ...   \n",
       "60762                                 NaN                    NaN   \n",
       "60763                                 NaN                    NaN   \n",
       "60764                                 NaN                    NaN   \n",
       "60765                                 NaN                    NaN   \n",
       "60766                                 NaN                    NaN   \n",
       "\n",
       "      apresentacoes.dataVencimentoRegistro tipoAutorizacao ativa emAnalise  \\\n",
       "0                                      NaN      REGISTRADO  True     False   \n",
       "1                                      NaN      REGISTRADO  True     False   \n",
       "2                                      NaN      REGISTRADO  True     False   \n",
       "3                                      NaN      REGISTRADO  True     False   \n",
       "4                                      NaN      REGISTRADO  True     False   \n",
       "...                                    ...             ...   ...       ...   \n",
       "60762                                  NaN             NaN   NaN       NaN   \n",
       "60763                                  NaN             NaN   NaN       NaN   \n",
       "60764                                  NaN             NaN   NaN       NaN   \n",
       "60765                                  NaN             NaN   NaN       NaN   \n",
       "60766                                  NaN             NaN   NaN       NaN   \n",
       "\n",
       "      inativa embalagemSecundaria.tipo embalagemSecundaria.observacao  \\\n",
       "0       False                 Cartucho          Cartucho de cartolina   \n",
       "1       False                 Cartucho          Cartucho de cartolina   \n",
       "2       False                 Cartucho          Cartucho de cartolina   \n",
       "3       False                 Cartucho          Cartucho de Cartolina   \n",
       "4       False                 Cartucho          Cartucho de Cartolina   \n",
       "...       ...                      ...                            ...   \n",
       "60762     NaN                      NaN                            NaN   \n",
       "60763     NaN                      NaN                            NaN   \n",
       "60764     NaN                      NaN                            NaN   \n",
       "60765     NaN                      NaN                            NaN   \n",
       "60766     NaN                      NaN                            NaN   \n",
       "\n",
       "      embalagemSecundaria  \n",
       "0                     NaN  \n",
       "1                     NaN  \n",
       "2                     NaN  \n",
       "3                     NaN  \n",
       "4                     NaN  \n",
       "...                   ...  \n",
       "60762                 NaN  \n",
       "60763                 NaN  \n",
       "60764                 NaN  \n",
       "60765                 NaN  \n",
       "60766                 NaN  \n",
       "\n",
       "[60767 rows x 60 columns]"
      ]
     },
     "execution_count": 6,
     "metadata": {},
     "output_type": "execute_result"
    }
   ],
   "source": [
    "df_final"
   ]
  },
  {
   "cell_type": "code",
   "execution_count": 7,
   "id": "2cb79535",
   "metadata": {},
   "outputs": [
    {
     "data": {
      "text/plain": [
       "Index(['id', 'codigo', 'numeroRegistro', 'nomeProduto', 'numeroProcesso',\n",
       "       'empresaNome', 'empresaCnpj', 'principioAtivo', 'tarja',\n",
       "       'medicamentoReferencia', 'classesTerapeuticas', 'bula_txt', 'bula_pdf',\n",
       "       'bula_txt_profissional', 'bula_pdf_profissional',\n",
       "       'categoriaRegulatoria', 'situacaoRegistro', 'dataProduto',\n",
       "       'dataVencimentoRegistro', 'dataPublicacao', 'indicacao',\n",
       "       'apresentacoes.codigo', 'apresentacao', 'formasFarmaceuticas', 'numero',\n",
       "       'tonalidade', 'apresentacoes.dataPublicacao', 'validade',\n",
       "       'tipoValidade', 'registro', 'principiosAtivos', 'complemento',\n",
       "       'qtdUnidadeMedida', 'embalagemPrimaria', 'embalagemPrimariaTodas',\n",
       "       'embalagemSecundariaTodas', 'envoltorios', 'acessorios',\n",
       "       'acondicionamento', 'marcas', 'fabricantesNacionais',\n",
       "       'fabricantesInternacionais', 'viasAdministracao', 'ifaUnico',\n",
       "       'conservacao', 'restricaoPrescricao', 'restricaoUso', 'destinacao',\n",
       "       'restricaoHospitais', 'apresentacoes.tarja',\n",
       "       'apresentacoes.medicamentoReferencia', 'apresentacaoFracionada',\n",
       "       'apresentacoes.dataVencimentoRegistro', 'tipoAutorizacao', 'ativa',\n",
       "       'emAnalise', 'inativa', 'embalagemSecundaria.tipo',\n",
       "       'embalagemSecundaria.observacao', 'embalagemSecundaria'],\n",
       "      dtype='object')"
      ]
     },
     "execution_count": 7,
     "metadata": {},
     "output_type": "execute_result"
    }
   ],
   "source": [
    "df_final.columns"
   ]
  },
  {
   "cell_type": "code",
   "execution_count": 8,
   "id": "c6df04c9",
   "metadata": {},
   "outputs": [
    {
     "name": "stdout",
     "output_type": "stream",
     "text": [
      "⚠️ La columna 'formasFarmaceuticas' contiene listas o diccionarios\n",
      "⚠️ La columna 'principiosAtivos' contiene listas o diccionarios\n",
      "⚠️ La columna 'embalagemPrimariaTodas' contiene listas o diccionarios\n",
      "⚠️ La columna 'embalagemSecundariaTodas' contiene listas o diccionarios\n",
      "⚠️ La columna 'envoltorios' contiene listas o diccionarios\n",
      "⚠️ La columna 'acessorios' contiene listas o diccionarios\n",
      "⚠️ La columna 'marcas' contiene listas o diccionarios\n",
      "⚠️ La columna 'fabricantesNacionais' contiene listas o diccionarios\n",
      "⚠️ La columna 'fabricantesInternacionais' contiene listas o diccionarios\n",
      "⚠️ La columna 'viasAdministracao' contiene listas o diccionarios\n",
      "⚠️ La columna 'conservacao' contiene listas o diccionarios\n",
      "⚠️ La columna 'restricaoPrescricao' contiene listas o diccionarios\n",
      "⚠️ La columna 'restricaoUso' contiene listas o diccionarios\n",
      "⚠️ La columna 'destinacao' contiene listas o diccionarios\n"
     ]
    }
   ],
   "source": [
    "for col in df_final.columns:\n",
    "    if df_final[col].apply(lambda x: isinstance(x, (list, dict))).any():\n",
    "        print(f\"⚠️ La columna '{col}' contiene listas o diccionarios\")"
   ]
  },
  {
   "cell_type": "code",
   "execution_count": 9,
   "id": "57d05101",
   "metadata": {},
   "outputs": [
    {
     "data": {
      "text/plain": [
       "(61144, 60)"
      ]
     },
     "execution_count": 9,
     "metadata": {},
     "output_type": "execute_result"
    }
   ],
   "source": [
    "df_final = df_final.explode('formasFarmaceuticas', ignore_index=True)\n",
    "df_final.shape"
   ]
  },
  {
   "cell_type": "code",
   "execution_count": 10,
   "id": "c8574af7",
   "metadata": {},
   "outputs": [
    {
     "data": {
      "text/plain": [
       "(75606, 60)"
      ]
     },
     "execution_count": 10,
     "metadata": {},
     "output_type": "execute_result"
    }
   ],
   "source": [
    "df_final = df_final.explode('principiosAtivos', ignore_index=True)\n",
    "df_final.shape"
   ]
  },
  {
   "cell_type": "code",
   "execution_count": 11,
   "id": "8b1df7d6",
   "metadata": {},
   "outputs": [
    {
     "data": {
      "text/plain": [
       "(76338, 60)"
      ]
     },
     "execution_count": 11,
     "metadata": {},
     "output_type": "execute_result"
    }
   ],
   "source": [
    "df_final = df_final.explode('embalagemPrimariaTodas', ignore_index=True)\n",
    "df_final.shape"
   ]
  },
  {
   "cell_type": "code",
   "execution_count": 12,
   "id": "b1c3cb80",
   "metadata": {},
   "outputs": [
    {
     "data": {
      "text/plain": [
       "(78228, 60)"
      ]
     },
     "execution_count": 12,
     "metadata": {},
     "output_type": "execute_result"
    }
   ],
   "source": [
    "df_final = df_final.explode('embalagemSecundariaTodas', ignore_index=True)\n",
    "df_final.shape"
   ]
  },
  {
   "cell_type": "code",
   "execution_count": 13,
   "id": "9238267a",
   "metadata": {},
   "outputs": [
    {
     "data": {
      "text/plain": [
       "(78228, 60)"
      ]
     },
     "execution_count": 13,
     "metadata": {},
     "output_type": "execute_result"
    }
   ],
   "source": [
    "df_final = df_final.explode('envoltorios', ignore_index=True)\n",
    "df_final.shape"
   ]
  },
  {
   "cell_type": "code",
   "execution_count": 14,
   "id": "8e40baf3",
   "metadata": {},
   "outputs": [
    {
     "data": {
      "text/plain": [
       "(78228, 60)"
      ]
     },
     "execution_count": 14,
     "metadata": {},
     "output_type": "execute_result"
    }
   ],
   "source": [
    "df_final = df_final.explode('acessorios', ignore_index=True)\n",
    "df_final.shape"
   ]
  },
  {
   "cell_type": "code",
   "execution_count": 15,
   "id": "9f51578b",
   "metadata": {},
   "outputs": [
    {
     "data": {
      "text/plain": [
       "(78228, 60)"
      ]
     },
     "execution_count": 15,
     "metadata": {},
     "output_type": "execute_result"
    }
   ],
   "source": [
    "df_final = df_final.explode('marcas', ignore_index=True)\n",
    "df_final.shape"
   ]
  },
  {
   "cell_type": "code",
   "execution_count": 16,
   "id": "0bfaa618",
   "metadata": {},
   "outputs": [
    {
     "data": {
      "text/plain": [
       "(98735, 60)"
      ]
     },
     "execution_count": 16,
     "metadata": {},
     "output_type": "execute_result"
    }
   ],
   "source": [
    "df_final = df_final.explode('fabricantesNacionais', ignore_index=True)\n",
    "df_final.shape"
   ]
  },
  {
   "cell_type": "code",
   "execution_count": 17,
   "id": "d873dc0b",
   "metadata": {},
   "outputs": [
    {
     "data": {
      "text/plain": [
       "(107525, 60)"
      ]
     },
     "execution_count": 17,
     "metadata": {},
     "output_type": "execute_result"
    }
   ],
   "source": [
    "df_final = df_final.explode('fabricantesInternacionais', ignore_index=True)\n",
    "df_final.shape"
   ]
  },
  {
   "cell_type": "code",
   "execution_count": 18,
   "id": "be0826b8",
   "metadata": {},
   "outputs": [
    {
     "data": {
      "text/plain": [
       "(109736, 60)"
      ]
     },
     "execution_count": 18,
     "metadata": {},
     "output_type": "execute_result"
    }
   ],
   "source": [
    "df_final = df_final.explode('viasAdministracao', ignore_index=True)\n",
    "df_final.shape"
   ]
  },
  {
   "cell_type": "code",
   "execution_count": 19,
   "id": "1ce04800",
   "metadata": {},
   "outputs": [
    {
     "data": {
      "text/plain": [
       "(196424, 60)"
      ]
     },
     "execution_count": 19,
     "metadata": {},
     "output_type": "execute_result"
    }
   ],
   "source": [
    "df_final = df_final.explode('conservacao', ignore_index=True)\n",
    "df_final.shape"
   ]
  },
  {
   "cell_type": "code",
   "execution_count": 20,
   "id": "48126279",
   "metadata": {},
   "outputs": [
    {
     "data": {
      "text/plain": [
       "(196795, 60)"
      ]
     },
     "execution_count": 20,
     "metadata": {},
     "output_type": "execute_result"
    }
   ],
   "source": [
    "df_final = df_final.explode('restricaoPrescricao', ignore_index=True)\n",
    "df_final.shape"
   ]
  },
  {
   "cell_type": "code",
   "execution_count": 21,
   "id": "2a7c5e54",
   "metadata": {},
   "outputs": [
    {
     "data": {
      "text/plain": [
       "(197049, 60)"
      ]
     },
     "execution_count": 21,
     "metadata": {},
     "output_type": "execute_result"
    }
   ],
   "source": [
    "df_final = df_final.explode('restricaoUso', ignore_index=True)\n",
    "df_final.shape"
   ]
  },
  {
   "cell_type": "code",
   "execution_count": 22,
   "id": "657b0971",
   "metadata": {},
   "outputs": [
    {
     "data": {
      "text/plain": [
       "(219707, 60)"
      ]
     },
     "execution_count": 22,
     "metadata": {},
     "output_type": "execute_result"
    }
   ],
   "source": [
    "df_final = df_final.explode('destinacao', ignore_index=True)\n",
    "df_final.shape"
   ]
  },
  {
   "cell_type": "markdown",
   "id": "91e52a99",
   "metadata": {},
   "source": [
    "# Validación de datos"
   ]
  },
  {
   "cell_type": "markdown",
   "id": "6b2af2a2",
   "metadata": {},
   "source": [
    "## Revisión de valores faltantes:"
   ]
  },
  {
   "cell_type": "markdown",
   "id": "560177c2",
   "metadata": {},
   "source": [
    "### Tipos de datos de las variables del conjunto de datos"
   ]
  },
  {
   "cell_type": "code",
   "execution_count": 23,
   "id": "02d552d7",
   "metadata": {},
   "outputs": [
    {
     "data": {
      "text/plain": [
       "id                                        int64\n",
       "codigo                                   object\n",
       "numeroRegistro                           object\n",
       "nomeProduto                              object\n",
       "numeroProcesso                           object\n",
       "empresaNome                              object\n",
       "empresaCnpj                              object\n",
       "principioAtivo                           object\n",
       "tarja                                    object\n",
       "medicamentoReferencia                    object\n",
       "classesTerapeuticas                      object\n",
       "bula_txt                                 object\n",
       "bula_pdf                                 object\n",
       "bula_txt_profissional                    object\n",
       "bula_pdf_profissional                    object\n",
       "categoriaRegulatoria                     object\n",
       "situacaoRegistro                         object\n",
       "dataProduto                              object\n",
       "dataVencimentoRegistro                   object\n",
       "dataPublicacao                           object\n",
       "indicacao                                object\n",
       "apresentacoes.codigo                    float64\n",
       "apresentacao                             object\n",
       "formasFarmaceuticas                      object\n",
       "numero                                  float64\n",
       "tonalidade                              float64\n",
       "apresentacoes.dataPublicacao             object\n",
       "validade                                 object\n",
       "tipoValidade                             object\n",
       "registro                                 object\n",
       "principiosAtivos                         object\n",
       "complemento                              object\n",
       "qtdUnidadeMedida                         object\n",
       "embalagemPrimaria                       float64\n",
       "embalagemPrimariaTodas                   object\n",
       "embalagemSecundariaTodas                 object\n",
       "envoltorios                              object\n",
       "acessorios                               object\n",
       "acondicionamento                        float64\n",
       "marcas                                   object\n",
       "fabricantesNacionais                     object\n",
       "fabricantesInternacionais                object\n",
       "viasAdministracao                        object\n",
       "ifaUnico                                 object\n",
       "conservacao                              object\n",
       "restricaoPrescricao                      object\n",
       "restricaoUso                             object\n",
       "destinacao                               object\n",
       "restricaoHospitais                       object\n",
       "apresentacoes.tarja                      object\n",
       "apresentacoes.medicamentoReferencia      object\n",
       "apresentacaoFracionada                   object\n",
       "apresentacoes.dataVencimentoRegistro    float64\n",
       "tipoAutorizacao                          object\n",
       "ativa                                    object\n",
       "emAnalise                                object\n",
       "inativa                                  object\n",
       "embalagemSecundaria.tipo                 object\n",
       "embalagemSecundaria.observacao           object\n",
       "embalagemSecundaria                     float64\n",
       "dtype: object"
      ]
     },
     "execution_count": 23,
     "metadata": {},
     "output_type": "execute_result"
    }
   ],
   "source": [
    "df_final.dtypes"
   ]
  },
  {
   "cell_type": "markdown",
   "id": "66f0790b",
   "metadata": {},
   "source": [
    "### cantidad de variables por tipo de datos"
   ]
  },
  {
   "cell_type": "code",
   "execution_count": 24,
   "id": "864827a7",
   "metadata": {},
   "outputs": [
    {
     "data": {
      "text/plain": [
       "object     52\n",
       "float64     7\n",
       "int64       1\n",
       "Name: count, dtype: int64"
      ]
     },
     "execution_count": 24,
     "metadata": {},
     "output_type": "execute_result"
    }
   ],
   "source": [
    "(\n",
    "    df_final.dtypes.value_counts()\n",
    ")"
   ]
  },
  {
   "cell_type": "markdown",
   "id": "3f40cd07",
   "metadata": {},
   "source": [
    "### Variables y observaciones del conjunto de datos"
   ]
  },
  {
   "cell_type": "code",
   "execution_count": 25,
   "id": "986733cc",
   "metadata": {},
   "outputs": [
    {
     "data": {
      "text/plain": [
       "(219707, 60)"
      ]
     },
     "execution_count": 25,
     "metadata": {},
     "output_type": "execute_result"
    }
   ],
   "source": [
    "df_final.shape"
   ]
  },
  {
   "cell_type": "markdown",
   "id": "fee9acc7",
   "metadata": {},
   "source": [
    "### Valores nulos del conjunto de datos"
   ]
  },
  {
   "cell_type": "code",
   "execution_count": 26,
   "id": "134d97f0",
   "metadata": {},
   "outputs": [
    {
     "data": {
      "text/plain": [
       "id                                           0\n",
       "codigo                                   12046\n",
       "numeroRegistro                             153\n",
       "nomeProduto                                  0\n",
       "numeroProcesso                               0\n",
       "empresaNome                                  0\n",
       "empresaCnpj                                  0\n",
       "principioAtivo                              95\n",
       "tarja                                    68409\n",
       "medicamentoReferencia                    86063\n",
       "classesTerapeuticas                        126\n",
       "bula_txt                                 11141\n",
       "bula_pdf                                 11140\n",
       "bula_txt_profissional                    11135\n",
       "bula_pdf_profissional                    11134\n",
       "categoriaRegulatoria                       618\n",
       "situacaoRegistro                             0\n",
       "dataProduto                                570\n",
       "dataVencimentoRegistro                     958\n",
       "dataPublicacao                               0\n",
       "indicacao                                12046\n",
       "apresentacoes.codigo                     12049\n",
       "apresentacao                             12049\n",
       "formasFarmaceuticas                      12049\n",
       "numero                                   12049\n",
       "tonalidade                              219707\n",
       "apresentacoes.dataPublicacao             12049\n",
       "validade                                 12100\n",
       "tipoValidade                             12100\n",
       "registro                                 12379\n",
       "principiosAtivos                         12714\n",
       "complemento                             206418\n",
       "qtdUnidadeMedida                        114390\n",
       "embalagemPrimaria                       219707\n",
       "embalagemPrimariaTodas                   19453\n",
       "embalagemSecundariaTodas                 15283\n",
       "envoltorios                             216843\n",
       "acessorios                              215964\n",
       "acondicionamento                        219707\n",
       "marcas                                  219707\n",
       "fabricantesNacionais                     59838\n",
       "fabricantesInternacionais               164473\n",
       "viasAdministracao                        21145\n",
       "ifaUnico                                 12049\n",
       "conservacao                              12696\n",
       "restricaoPrescricao                      23107\n",
       "restricaoUso                             67634\n",
       "destinacao                               16391\n",
       "restricaoHospitais                       63372\n",
       "apresentacoes.tarja                      74262\n",
       "apresentacoes.medicamentoReferencia      12049\n",
       "apresentacaoFracionada                   12049\n",
       "apresentacoes.dataVencimentoRegistro    219707\n",
       "tipoAutorizacao                          12049\n",
       "ativa                                    12049\n",
       "emAnalise                                12049\n",
       "inativa                                  12049\n",
       "embalagemSecundaria.tipo                 16076\n",
       "embalagemSecundaria.observacao          158139\n",
       "embalagemSecundaria                     219707\n",
       "dtype: int64"
      ]
     },
     "execution_count": 26,
     "metadata": {},
     "output_type": "execute_result"
    }
   ],
   "source": [
    "(\n",
    "    df_final.isnull().sum()\n",
    ")"
   ]
  },
  {
   "cell_type": "code",
   "execution_count": 27,
   "id": "9dcae1b3",
   "metadata": {},
   "outputs": [
    {
     "data": {
      "text/plain": [
       "Text(0.5, 1.02, 'Proporción de valores nulos y no nulos por variable')"
      ]
     },
     "execution_count": 27,
     "metadata": {},
     "output_type": "execute_result"
    },
    {
     "data": {
      "image/png": "[encoded data removed]",
      "text/plain": [
       "<Figure size 1084.88x500 with 1 Axes>"
      ]
     },
     "metadata": {},
     "output_type": "display_data"
    }
   ],
   "source": [
    "(\n",
    "    df_final\n",
    "    .isnull()\n",
    "    .melt()\n",
    "    .pipe(\n",
    "        lambda df: (\n",
    "            sns.displot(\n",
    "                data=df,\n",
    "                y=\"variable\",\n",
    "                hue=\"value\",\n",
    "                multiple=\"fill\",\n",
    "                aspect=2\n",
    "                \n",
    "        )\n",
    "        )\n",
    "    )\n",
    ").fig.suptitle(\"Proporción de valores nulos y no nulos por variable\", fontsize=14, y=1.02)"
   ]
  },
  {
   "cell_type": "code",
   "execution_count": 28,
   "id": "a916ee14",
   "metadata": {},
   "outputs": [
    {
     "data": {
      "image/png": "[encoded data removed]",
      "text/plain": [
       "<Figure size 640x480 with 1 Axes>"
      ]
     },
     "metadata": {},
     "output_type": "display_data"
    }
   ],
   "source": [
    "cmap = ListedColormap([\"black\", \"lightgray\"])\n",
    "ax = (\n",
    "    df_final\n",
    "    .isnull().\n",
    "    transpose()\n",
    "    .pipe(\n",
    "        lambda df: (\n",
    "            sns.heatmap(\n",
    "                data=df,\n",
    "                cbar=False,\n",
    "                cmap=cmap,\n",
    "            )\n",
    "        )\n",
    "    )\n",
    ")\n",
    "plt.title(\"Mapa de calor: Valores Nulos vs No Nulos\", fontsize=14, pad=20)\n",
    "\n",
    "\n",
    "legend_patches = [\n",
    "    mpatches.Patch(color=\"black\", label=\"No Nulo\"),\n",
    "    mpatches.Patch(color=\"lightgray\", label=\"Nulo\")\n",
    "]\n",
    "\n",
    "# Agregar la leyenda al gráfico\n",
    "plt.legend(\n",
    "    handles=legend_patches,\n",
    "    loc=\"upper right\",   \n",
    "    bbox_to_anchor=(1.25, 1)  \n",
    ")\n",
    "\n",
    "plt.show()"
   ]
  },
  {
   "cell_type": "code",
   "execution_count": 29,
   "id": "aeec4bcb",
   "metadata": {},
   "outputs": [
    {
     "data": {
      "text/plain": [
       "id                                        0.000000\n",
       "codigo                                    5.482757\n",
       "numeroRegistro                            0.069638\n",
       "nomeProduto                               0.000000\n",
       "numeroProcesso                            0.000000\n",
       "empresaNome                               0.000000\n",
       "empresaCnpj                               0.000000\n",
       "principioAtivo                            0.043239\n",
       "tarja                                    31.136468\n",
       "medicamentoReferencia                    39.171715\n",
       "classesTerapeuticas                       0.057349\n",
       "bula_txt                                  5.070844\n",
       "bula_pdf                                  5.070389\n",
       "bula_txt_profissional                     5.068113\n",
       "bula_pdf_profissional                     5.067658\n",
       "categoriaRegulatoria                      0.281284\n",
       "situacaoRegistro                          0.000000\n",
       "dataProduto                               0.259436\n",
       "dataVencimentoRegistro                    0.436035\n",
       "dataPublicacao                            0.000000\n",
       "indicacao                                 5.482757\n",
       "apresentacoes.codigo                      5.484122\n",
       "apresentacao                              5.484122\n",
       "formasFarmaceuticas                       5.484122\n",
       "numero                                    5.484122\n",
       "tonalidade                              100.000000\n",
       "apresentacoes.dataPublicacao              5.484122\n",
       "validade                                  5.507335\n",
       "tipoValidade                              5.507335\n",
       "registro                                  5.634322\n",
       "principiosAtivos                          5.786798\n",
       "complemento                              93.951490\n",
       "qtdUnidadeMedida                         52.064795\n",
       "embalagemPrimaria                       100.000000\n",
       "embalagemPrimariaTodas                    8.854065\n",
       "embalagemSecundariaTodas                  6.956082\n",
       "envoltorios                              98.696446\n",
       "acessorios                               98.296367\n",
       "acondicionamento                        100.000000\n",
       "marcas                                  100.000000\n",
       "fabricantesNacionais                     27.235363\n",
       "fabricantesInternacionais                74.860155\n",
       "viasAdministracao                         9.624181\n",
       "ifaUnico                                  5.484122\n",
       "conservacao                               5.778605\n",
       "restricaoPrescricao                      10.517189\n",
       "restricaoUso                             30.783726\n",
       "destinacao                                7.460390\n",
       "restricaoHospitais                       28.843869\n",
       "apresentacoes.tarja                      33.800471\n",
       "apresentacoes.medicamentoReferencia       5.484122\n",
       "apresentacaoFracionada                    5.484122\n",
       "apresentacoes.dataVencimentoRegistro    100.000000\n",
       "tipoAutorizacao                           5.484122\n",
       "ativa                                     5.484122\n",
       "emAnalise                                 5.484122\n",
       "inativa                                   5.484122\n",
       "embalagemSecundaria.tipo                  7.317018\n",
       "embalagemSecundaria.observacao           71.977224\n",
       "embalagemSecundaria                     100.000000\n",
       "dtype: float64"
      ]
     },
     "execution_count": 29,
     "metadata": {},
     "output_type": "execute_result"
    }
   ],
   "source": [
    "df_final.isnull().mean() * 100\n"
   ]
  },
  {
   "cell_type": "code",
   "execution_count": 30,
   "id": "be0b70a4",
   "metadata": {},
   "outputs": [
    {
     "name": "stdout",
     "output_type": "stream",
     "text": [
      "cantidad de filas nulas:\n",
      "0\n",
      "Columnas completamente nulas:\n",
      "['tonalidade', 'embalagemPrimaria', 'acondicionamento', 'marcas', 'apresentacoes.dataVencimentoRegistro', 'embalagemSecundaria']\n"
     ]
    }
   ],
   "source": [
    "print(\"cantidad de filas nulas:\")\n",
    "print(df_final.isnull().all(axis=1).sum())\n",
    "cols_nullas = df_final.columns[df_final.isnull().all(axis=0)]\n",
    "print(\"Columnas completamente nulas:\")\n",
    "print(cols_nullas.tolist())"
   ]
  },
  {
   "cell_type": "code",
   "execution_count": 31,
   "id": "e98f086b",
   "metadata": {},
   "outputs": [
    {
     "name": "stdout",
     "output_type": "stream",
     "text": [
      "                                       nulos  porcentaje\n",
      "tonalidade                            219707  100.000000\n",
      "acondicionamento                      219707  100.000000\n",
      "marcas                                219707  100.000000\n",
      "embalagemPrimaria                     219707  100.000000\n",
      "embalagemSecundaria                   219707  100.000000\n",
      "apresentacoes.dataVencimentoRegistro  219707  100.000000\n",
      "envoltorios                           216843   98.696446\n",
      "acessorios                            215964   98.296367\n",
      "complemento                           206418   93.951490\n",
      "fabricantesInternacionais             164473   74.860155\n",
      "embalagemSecundaria.observacao        158139   71.977224\n",
      "qtdUnidadeMedida                      114390   52.064795\n",
      "medicamentoReferencia                  86063   39.171715\n",
      "apresentacoes.tarja                    74262   33.800471\n",
      "tarja                                  68409   31.136468\n",
      "restricaoUso                           67634   30.783726\n",
      "restricaoHospitais                     63372   28.843869\n",
      "fabricantesNacionais                   59838   27.235363\n",
      "restricaoPrescricao                    23107   10.517189\n",
      "viasAdministracao                      21145    9.624181\n",
      "embalagemPrimariaTodas                 19453    8.854065\n",
      "destinacao                             16391    7.460390\n",
      "embalagemSecundaria.tipo               16076    7.317018\n",
      "embalagemSecundariaTodas               15283    6.956082\n",
      "principiosAtivos                       12714    5.786798\n",
      "conservacao                            12696    5.778605\n",
      "registro                               12379    5.634322\n",
      "validade                               12100    5.507335\n",
      "tipoValidade                           12100    5.507335\n",
      "ifaUnico                               12049    5.484122\n",
      "apresentacaoFracionada                 12049    5.484122\n",
      "apresentacao                           12049    5.484122\n",
      "formasFarmaceuticas                    12049    5.484122\n",
      "apresentacoes.codigo                   12049    5.484122\n",
      "numero                                 12049    5.484122\n",
      "apresentacoes.dataPublicacao           12049    5.484122\n",
      "emAnalise                              12049    5.484122\n",
      "ativa                                  12049    5.484122\n",
      "tipoAutorizacao                        12049    5.484122\n",
      "apresentacoes.medicamentoReferencia    12049    5.484122\n",
      "inativa                                12049    5.484122\n",
      "indicacao                              12046    5.482757\n",
      "codigo                                 12046    5.482757\n",
      "bula_txt                               11141    5.070844\n",
      "bula_pdf                               11140    5.070389\n",
      "bula_txt_profissional                  11135    5.068113\n",
      "bula_pdf_profissional                  11134    5.067658\n",
      "dataVencimentoRegistro                   958    0.436035\n",
      "categoriaRegulatoria                     618    0.281284\n",
      "dataProduto                              570    0.259436\n",
      "numeroRegistro                           153    0.069638\n",
      "classesTerapeuticas                      126    0.057349\n",
      "principioAtivo                            95    0.043239\n",
      "situacaoRegistro                           0    0.000000\n",
      "numeroProcesso                             0    0.000000\n",
      "dataPublicacao                             0    0.000000\n",
      "nomeProduto                                0    0.000000\n",
      "empresaCnpj                                0    0.000000\n",
      "empresaNome                                0    0.000000\n",
      "id                                         0    0.000000\n"
     ]
    }
   ],
   "source": [
    "missing_info = (\n",
    "    df_final.isnull().sum()\n",
    "    .to_frame(\"nulos\")\n",
    "    .assign(porcentaje=lambda x: x.nulos / len(df_final) * 100)\n",
    "    .sort_values(\"porcentaje\", ascending=False)\n",
    ")\n",
    "print(missing_info)"
   ]
  },
  {
   "cell_type": "markdown",
   "id": "64859d12",
   "metadata": {},
   "source": [
    "### Cuantificacion de la magnitud del problema:\n",
    "Se identificaron esta columnas sin datos:\n",
    "'tonalidade', 'embalagemPrimaria', 'acondicionamento', 'marcas', 'apresentacoes.dataVencimentoRegistro', 'embalagemSecundaria'\n",
    "\n",
    "* esta primera parte encontrada se puede eliminar ya que no tiene un impacto sobre el dataset.\n",
    "* Las columnas vacias se pueden eleminar ya que la tonalidad del medicamento y el embalage no son necesarios para el objetivo de este analisis.\n",
    "* la \"dataVencimentoRegistro\" de no es necesaria ya que con la la columna \"dataPublicacao\" y la columna \"validade\" podemos calcular la \"dataVencimentoRegistro\"\n",
    "* la columna \"acondicionamento\" Se refiere al tipo de acondicionamiento del producto: cómo se empaca o presenta al mercado (ej. caja con 10 tabletas, frasco de 250 ml, etc.). Se puede eliminar porque no se hara análisis de mercializacioon o logistica.\n",
    "* Las columnas envoltorios, acessorios, complemento y embalagemSecundaria.observacao  se pueden eliminar ya que no son relevantes para este analisis.\n"
   ]
  },
  {
   "cell_type": "code",
   "execution_count": 32,
   "id": "774a6f19",
   "metadata": {},
   "outputs": [
    {
     "data": {
      "text/plain": [
       "(219707, 50)"
      ]
     },
     "execution_count": 32,
     "metadata": {},
     "output_type": "execute_result"
    }
   ],
   "source": [
    "df_final = df_final.dropna(how=\"all\")\n",
    "df_final = df_final.drop(columns=['tonalidade', 'embalagemPrimaria', 'acondicionamento', 'marcas',\n",
    "                                  'apresentacoes.dataVencimentoRegistro', 'embalagemSecundaria', 'envoltorios', 'acessorios',\n",
    "                                  'complemento','embalagemSecundaria.observacao'])\n",
    "df_final.shape"
   ]
  },
  {
   "cell_type": "code",
   "execution_count": 33,
   "id": "a04e7ebc",
   "metadata": {},
   "outputs": [
    {
     "name": "stdout",
     "output_type": "stream",
     "text": [
      "                                      nulos  porcentaje\n",
      "fabricantesInternacionais            164473   74.860155\n",
      "qtdUnidadeMedida                     114390   52.064795\n",
      "medicamentoReferencia                 86063   39.171715\n",
      "apresentacoes.tarja                   74262   33.800471\n",
      "tarja                                 68409   31.136468\n",
      "restricaoUso                          67634   30.783726\n",
      "restricaoHospitais                    63372   28.843869\n",
      "fabricantesNacionais                  59838   27.235363\n",
      "restricaoPrescricao                   23107   10.517189\n",
      "viasAdministracao                     21145    9.624181\n",
      "embalagemPrimariaTodas                19453    8.854065\n",
      "destinacao                            16391    7.460390\n",
      "embalagemSecundaria.tipo              16076    7.317018\n",
      "embalagemSecundariaTodas              15283    6.956082\n",
      "principiosAtivos                      12714    5.786798\n",
      "conservacao                           12696    5.778605\n",
      "registro                              12379    5.634322\n",
      "tipoValidade                          12100    5.507335\n",
      "validade                              12100    5.507335\n",
      "ifaUnico                              12049    5.484122\n",
      "apresentacaoFracionada                12049    5.484122\n",
      "apresentacoes.codigo                  12049    5.484122\n",
      "apresentacoes.dataPublicacao          12049    5.484122\n",
      "numero                                12049    5.484122\n",
      "formasFarmaceuticas                   12049    5.484122\n",
      "apresentacao                          12049    5.484122\n",
      "tipoAutorizacao                       12049    5.484122\n",
      "ativa                                 12049    5.484122\n",
      "emAnalise                             12049    5.484122\n",
      "apresentacoes.medicamentoReferencia   12049    5.484122\n",
      "inativa                               12049    5.484122\n",
      "indicacao                             12046    5.482757\n",
      "codigo                                12046    5.482757\n",
      "bula_txt                              11141    5.070844\n",
      "bula_pdf                              11140    5.070389\n",
      "bula_txt_profissional                 11135    5.068113\n",
      "bula_pdf_profissional                 11134    5.067658\n",
      "dataVencimentoRegistro                  958    0.436035\n",
      "categoriaRegulatoria                    618    0.281284\n",
      "dataProduto                             570    0.259436\n",
      "numeroRegistro                          153    0.069638\n",
      "classesTerapeuticas                     126    0.057349\n",
      "principioAtivo                           95    0.043239\n",
      "numeroProcesso                            0    0.000000\n",
      "situacaoRegistro                          0    0.000000\n",
      "empresaCnpj                               0    0.000000\n",
      "empresaNome                               0    0.000000\n",
      "id                                        0    0.000000\n",
      "nomeProduto                               0    0.000000\n",
      "dataPublicacao                            0    0.000000\n"
     ]
    }
   ],
   "source": [
    "missing_info = (\n",
    "    df_final.isnull().sum()\n",
    "    .to_frame(\"nulos\")\n",
    "    .assign(porcentaje=lambda x: x.nulos / len(df_final) * 100)\n",
    "    .sort_values(\"porcentaje\", ascending=False)\n",
    ")\n",
    "print(missing_info)"
   ]
  },
  {
   "cell_type": "markdown",
   "id": "d23f3743",
   "metadata": {},
   "source": [
    "1. Análisis conceptual de cada variable\n",
    "\n",
    "* fabricantesInternacionais (74.8 % nulos)\n",
    "esta columna puede ser muy útil para análisis de mercado como por ejemplo qué % de productos vienen de fuera.\n",
    "Esto sugiere que la mayoría de los productos no tienen fabricante internacional.\n",
    "se pueden reemplazar los valores nulos por \"Ninguno\" o \"Nacional\"."
   ]
  },
  {
   "cell_type": "code",
   "execution_count": 34,
   "id": "8ffdcf8a",
   "metadata": {},
   "outputs": [
    {
     "data": {
      "text/html": [
       "<div>\n",
       "<style scoped>\n",
       "    .dataframe tbody tr th:only-of-type {\n",
       "        vertical-align: middle;\n",
       "    }\n",
       "\n",
       "    .dataframe tbody tr th {\n",
       "        vertical-align: top;\n",
       "    }\n",
       "\n",
       "    .dataframe thead th {\n",
       "        text-align: right;\n",
       "    }\n",
       "</style>\n",
       "<table border=\"1\" class=\"dataframe\">\n",
       "  <thead>\n",
       "    <tr style=\"text-align: right;\">\n",
       "      <th></th>\n",
       "      <th>numeroProcesso</th>\n",
       "      <th>qtdUnidadeMedida</th>\n",
       "      <th>apresentacao</th>\n",
       "    </tr>\n",
       "  </thead>\n",
       "  <tbody>\n",
       "    <tr>\n",
       "      <th>0</th>\n",
       "      <td>25351771065201417</td>\n",
       "      <td>5 MILILITRO</td>\n",
       "      <td>0,8 MG/ML SOL INJ IV CT FA VD TRANS X 5 ML</td>\n",
       "    </tr>\n",
       "    <tr>\n",
       "      <th>1</th>\n",
       "      <td>25351771065201417</td>\n",
       "      <td>5 MILILITRO</td>\n",
       "      <td>0,8 MG/ML SOL INJ IV CT 4 FA VD TRANS X 5 ML</td>\n",
       "    </tr>\n",
       "    <tr>\n",
       "      <th>2</th>\n",
       "      <td>25351771065201417</td>\n",
       "      <td>5 MILILITRO</td>\n",
       "      <td>0,8 MG/ML SOL INJ IV CT 10  FA VD TRANS X 5 ML</td>\n",
       "    </tr>\n",
       "    <tr>\n",
       "      <th>3</th>\n",
       "      <td>25351843204202031</td>\n",
       "      <td>None</td>\n",
       "      <td>150 MG COM CT STR AL X 20</td>\n",
       "    </tr>\n",
       "    <tr>\n",
       "      <th>4</th>\n",
       "      <td>25351843204202031</td>\n",
       "      <td>None</td>\n",
       "      <td>150 MG COM CT STR AL X 20</td>\n",
       "    </tr>\n",
       "    <tr>\n",
       "      <th>5</th>\n",
       "      <td>25351843204202031</td>\n",
       "      <td>None</td>\n",
       "      <td>150 MG COM CT STR AL X 30</td>\n",
       "    </tr>\n",
       "    <tr>\n",
       "      <th>6</th>\n",
       "      <td>25351843204202031</td>\n",
       "      <td>None</td>\n",
       "      <td>150 MG COM CT STR AL X 30</td>\n",
       "    </tr>\n",
       "    <tr>\n",
       "      <th>7</th>\n",
       "      <td>25351843204202031</td>\n",
       "      <td>None</td>\n",
       "      <td>150 MG COM CT STR AL X 60</td>\n",
       "    </tr>\n",
       "    <tr>\n",
       "      <th>8</th>\n",
       "      <td>25351843204202031</td>\n",
       "      <td>None</td>\n",
       "      <td>150 MG COM CT STR AL X 60</td>\n",
       "    </tr>\n",
       "    <tr>\n",
       "      <th>9</th>\n",
       "      <td>25351843204202031</td>\n",
       "      <td>None</td>\n",
       "      <td>150 MG COM CT STR AL X 90</td>\n",
       "    </tr>\n",
       "  </tbody>\n",
       "</table>\n",
       "</div>"
      ],
      "text/plain": [
       "      numeroProcesso qtdUnidadeMedida  \\\n",
       "0  25351771065201417      5 MILILITRO   \n",
       "1  25351771065201417      5 MILILITRO   \n",
       "2  25351771065201417      5 MILILITRO   \n",
       "3  25351843204202031             None   \n",
       "4  25351843204202031             None   \n",
       "5  25351843204202031             None   \n",
       "6  25351843204202031             None   \n",
       "7  25351843204202031             None   \n",
       "8  25351843204202031             None   \n",
       "9  25351843204202031             None   \n",
       "\n",
       "                                     apresentacao  \n",
       "0      0,8 MG/ML SOL INJ IV CT FA VD TRANS X 5 ML  \n",
       "1    0,8 MG/ML SOL INJ IV CT 4 FA VD TRANS X 5 ML  \n",
       "2  0,8 MG/ML SOL INJ IV CT 10  FA VD TRANS X 5 ML  \n",
       "3                       150 MG COM CT STR AL X 20  \n",
       "4                       150 MG COM CT STR AL X 20  \n",
       "5                       150 MG COM CT STR AL X 30  \n",
       "6                       150 MG COM CT STR AL X 30  \n",
       "7                       150 MG COM CT STR AL X 60  \n",
       "8                       150 MG COM CT STR AL X 60  \n",
       "9                       150 MG COM CT STR AL X 90  "
      ]
     },
     "execution_count": 34,
     "metadata": {},
     "output_type": "execute_result"
    }
   ],
   "source": [
    "df_final[['numeroProcesso', 'qtdUnidadeMedida','apresentacao']].head(10)"
   ]
  },
  {
   "cell_type": "markdown",
   "id": "a29f6112",
   "metadata": {},
   "source": [
    "* qtdUnidadeMedida (52% nulos)\n",
    "variable categoria que indica la unidad de medida del medicamento. se puede borrar ya que la información se puede obtener de la columnas apresentacao"
   ]
  },
  {
   "cell_type": "code",
   "execution_count": 35,
   "id": "3d13cd1c",
   "metadata": {},
   "outputs": [
    {
     "data": {
      "text/html": [
       "<div>\n",
       "<style scoped>\n",
       "    .dataframe tbody tr th:only-of-type {\n",
       "        vertical-align: middle;\n",
       "    }\n",
       "\n",
       "    .dataframe tbody tr th {\n",
       "        vertical-align: top;\n",
       "    }\n",
       "\n",
       "    .dataframe thead th {\n",
       "        text-align: right;\n",
       "    }\n",
       "</style>\n",
       "<table border=\"1\" class=\"dataframe\">\n",
       "  <thead>\n",
       "    <tr style=\"text-align: right;\">\n",
       "      <th></th>\n",
       "      <th>numeroProcesso</th>\n",
       "      <th>medicamentoReferencia</th>\n",
       "    </tr>\n",
       "  </thead>\n",
       "  <tbody>\n",
       "    <tr>\n",
       "      <th>0</th>\n",
       "      <td>25351771065201417</td>\n",
       "      <td>ZOMETA</td>\n",
       "    </tr>\n",
       "    <tr>\n",
       "      <th>1</th>\n",
       "      <td>25351771065201417</td>\n",
       "      <td>ZOMETA</td>\n",
       "    </tr>\n",
       "    <tr>\n",
       "      <th>2</th>\n",
       "      <td>25351771065201417</td>\n",
       "      <td>ZOMETA</td>\n",
       "    </tr>\n",
       "    <tr>\n",
       "      <th>3</th>\n",
       "      <td>25351843204202031</td>\n",
       "      <td>Ursacol®</td>\n",
       "    </tr>\n",
       "    <tr>\n",
       "      <th>4</th>\n",
       "      <td>25351843204202031</td>\n",
       "      <td>Ursacol®</td>\n",
       "    </tr>\n",
       "    <tr>\n",
       "      <th>...</th>\n",
       "      <td>...</td>\n",
       "      <td>...</td>\n",
       "    </tr>\n",
       "    <tr>\n",
       "      <th>219702</th>\n",
       "      <td>25351378833202167</td>\n",
       "      <td>None</td>\n",
       "    </tr>\n",
       "    <tr>\n",
       "      <th>219703</th>\n",
       "      <td>25351540996202256</td>\n",
       "      <td>None</td>\n",
       "    </tr>\n",
       "    <tr>\n",
       "      <th>219704</th>\n",
       "      <td>25351640125202151</td>\n",
       "      <td>None</td>\n",
       "    </tr>\n",
       "    <tr>\n",
       "      <th>219705</th>\n",
       "      <td>25351140602202263</td>\n",
       "      <td>None</td>\n",
       "    </tr>\n",
       "    <tr>\n",
       "      <th>219706</th>\n",
       "      <td>25351640147202111</td>\n",
       "      <td>None</td>\n",
       "    </tr>\n",
       "  </tbody>\n",
       "</table>\n",
       "<p>219707 rows × 2 columns</p>\n",
       "</div>"
      ],
      "text/plain": [
       "           numeroProcesso medicamentoReferencia\n",
       "0       25351771065201417                ZOMETA\n",
       "1       25351771065201417                ZOMETA\n",
       "2       25351771065201417                ZOMETA\n",
       "3       25351843204202031              Ursacol®\n",
       "4       25351843204202031              Ursacol®\n",
       "...                   ...                   ...\n",
       "219702  25351378833202167                  None\n",
       "219703  25351540996202256                  None\n",
       "219704  25351640125202151                  None\n",
       "219705  25351140602202263                  None\n",
       "219706  25351640147202111                  None\n",
       "\n",
       "[219707 rows x 2 columns]"
      ]
     },
     "execution_count": 35,
     "metadata": {},
     "output_type": "execute_result"
    }
   ],
   "source": [
    "df_final[['numeroProcesso', 'medicamentoReferencia']]"
   ]
  },
  {
   "cell_type": "markdown",
   "id": "1b840eb7",
   "metadata": {},
   "source": [
    "* medicamentoReferencia indica si ese medicamento tiene como referencia otro. es normal que exitan medicamentos sin referencias. para completar los datos se puede agregar una categoria como \"Sin  referencia\""
   ]
  },
  {
   "cell_type": "code",
   "execution_count": 36,
   "id": "ff519035",
   "metadata": {},
   "outputs": [
    {
     "name": "stdout",
     "output_type": "stream",
     "text": [
      "['Vermelha sob restrição' 'Vermelha' None 'Sem Tarja' 'Preta']\n",
      "['Vermelha sob restrição' 'Vermelha' None 'Sem Tarja' 'Preta' nan]\n"
     ]
    }
   ],
   "source": [
    "print(df_final.tarja.unique())\n",
    "print(df_final['apresentacoes.tarja'].unique())"
   ]
  },
  {
   "cell_type": "markdown",
   "id": "53e5c193",
   "metadata": {},
   "source": [
    "* apresentacoes.tarja y tarja son columnas duplicadas. esta columnas indican si es necesario preescripcion medica o no.\n",
    "se pueden eliminar una de las dos y los valores nulos podrian tartase como sin preescripcion, pero primero se debe validar si el medicamento si ese dato se debe cumple con esos requisitos ya se validando manualmente el medicamento o mediante imputación.\n",
    "aun no se elimina una de las columnas porque por cantidad de datos una tien mas nulos que la otra."
   ]
  },
  {
   "cell_type": "code",
   "execution_count": 37,
   "id": "d8deea52",
   "metadata": {},
   "outputs": [
    {
     "name": "stdout",
     "output_type": "stream",
     "text": [
      "['Adulto' 'Adulto e Pediátrico acima de  10 anos' 'Adulto e Pediátrico'\n",
      " 'Adulto e Pediátrico acima de  12 anos' nan\n",
      " 'Adulto e Pediátrico acima de  2 anos de idade' 'Adulto acima de 3 anos'\n",
      " 'Adulto e Pediátrico a partir de 12 meses de idade'\n",
      " 'Adulto e Pediátrico acima de  3 anos'\n",
      " 'Adulto e Pediátrico acima de  16 anos'\n",
      " 'Adulto e Pediátrico acima de  16  anos' 'Adulto e Pediátrico acima de'\n",
      " 'Adulto acima de 18 anos' 'Adulto acima de'\n",
      " 'Adulto e Pediátrico acima de  2 anos' 'Adulto acima de 16 anos'\n",
      " 'Adulto e Pediátrico acima de  6 semanas de vida'\n",
      " 'Adulto e Pediátrico acima de  2 meses'\n",
      " 'Adulto e Pediátrico acima de  30kg'\n",
      " 'Adulto e Pediátrico acima de  5 ANOS'\n",
      " 'Adulto e Pediátrico acima de  5 anos'\n",
      " 'Adulto e Pediátrico acima de  1 ano'\n",
      " 'Adulto e Pediátrico acima de  2 ANOS'\n",
      " 'Adulto e Pediátrico acima de  12 anos de idade'\n",
      " 'Adulto e Pediátrico acima de  6 anos' 'Adulto acima de 18 Anos'\n",
      " 'Pediátrico acima de 1 Ano' 'Adulto e Pediátrico acima de  12 Anos'\n",
      " 'Adulto e Pediátrico acima de  12 ANOS' 'Pediátrico acima de 6 anos'\n",
      " 'Adulto e Pediátrico acima de  15 anos' 'Adulto acima de 15 ANOS'\n",
      " 'Adulto acima de 15 anos' 'Adulto e Pediátrico acima de  3 meses'\n",
      " 'Pediátrico acima de 8 anos - apenas para o tratamento de transtorno obsessivo-compulsivo'\n",
      " 'Adulto e Pediátrico acima de  2 anos.' 'Pediátrico acima de 2 anos'\n",
      " 'Adulto e Pediátrico acima de  1 mês'\n",
      " 'Adulto e Pediátrico acima de  1 ANO'\n",
      " 'Adulto e Pediátrico acima de  5 anos ou 15Kg'\n",
      " 'Adulto e Pediátrico acima de  6 meses'\n",
      " 'Adulto e Pediátrico acima de  6 meses.'\n",
      " 'Adulto e Pediátrico acima de  8 anos'\n",
      " 'Adulto e Pediátrico acima de  10 ANOS'\n",
      " 'Adulto e Pediátrico acima de  1 Ano'\n",
      " 'Adulto e Pediátrico acima de  35 kg'\n",
      " 'Adulto e Pediátrico acima de  15 ANOS'\n",
      " 'Adulto e Pediátrico acima de  3 MESES'\n",
      " 'Adulto e Pediátrico acima de  14 anos'\n",
      " 'Adulto e Pediátrico acima de   1 a 17 anos'\n",
      " 'Adulto e Pediátrico acima de  4 meses'\n",
      " 'Adulto e Pediátrico acima de  6 anos ( vide indicações)'\n",
      " 'Adulto e Pediátrico acima de 6 anos apenas para o tratamento do transtorno obsessivo compulsivo'\n",
      " 'Adulto e Pediátrico acima de  6 ANOS DE IDADE*'\n",
      " 'Adulto e Pediátrico acima de   6 ANOS DE IDADE*'\n",
      " 'Adulto e Pediátrico vide posologia'\n",
      " 'Adulto e Pediátrico acima de  2 Anos'\n",
      " 'Adulto e Pediátrico acima de  1 ou 6 meses'\n",
      " 'Adulto e Pediátrico acima de  11 anos' 'Adulto acima de 18 ANOS'\n",
      " 'Pediátrico' 'Adulto e Pediátrico acima de  05 ANOS'\n",
      " 'Pediátrico acima de 1 ano' 'Adulto e Pediátrico acima de  01 ano'\n",
      " 'Adulto acima de 12 anos' 'Adulto e Pediátrico acima de  45 KG'\n",
      " 'Adulto e Pediátrico acima de  45 Kg' 'Adulto acima de 10 anos'\n",
      " 'Adulto e Pediátrico acima de  10 anos de idade'\n",
      " 'Adulto e Pediátrico acima de  2 meses de idade'\n",
      " 'Adulto e Pediátrico acima de  02 MESES'\n",
      " 'Adulto e Pediátrico acima de  acima de 10 anos'\n",
      " 'Adulto e Pediátrico acima de  6 ANOS'\n",
      " 'Adulto e Pediátrico acima de  4 ANOS'\n",
      " 'Adulto e Pediátrico acima de  02 anos'\n",
      " 'Adulto e Pediátrico acima de  4 anos'\n",
      " 'Adulto e Pediátrico acima de  45 kg'\n",
      " 'Adulto e Pediátrico acima de  45kg'\n",
      " 'Adulto e Pediátrico COM PESO IGUAL OU SUPERIOR A 30 KG'\n",
      " 'Adulto e Pediátrico com peso igual ou superior a 30kg'\n",
      " 'Pediátrico acima de 02 anos'\n",
      " 'Adulto e Pediátrico acima de  14 anos de idade'\n",
      " 'Adulto e Pediátrico acima de  7 Anos'\n",
      " 'Adulto e Pediátrico acima de  4  anos' 'Adulto 18 anos'\n",
      " 'Pediátrico acima de 2 meses a 12  anos'\n",
      " 'Pediátrico acima de 2 meses a 12 anos'\n",
      " 'Pediátrico acima de  2 meses a 12 anos'\n",
      " 'Pediátrico acima de 2 MESES A 12 ANOS'\n",
      " 'Adulto e Pediátrico acima de  02 ANOS' 'Pediátrico acima de 4 anos'\n",
      " 'Pediátrico acima de' 'Adulto e Pediátrico acima de  18 anos'\n",
      " 'Adulto e Pediátrico acima de  16 ANOS'\n",
      " 'Adulto e Pediátrico acima de  45 Kgs'\n",
      " 'Adulto e Pediátrico acima de  06 anos'\n",
      " 'Adulto e Pediátrico acima de  6 anos de idade'\n",
      " 'Adulto e Pediátrico (EXCETO EM RECÉM NASCIDOS PREMATURO)'\n",
      " 'Adulto acima de 12 Anos' 'Adulto e Pediátrico acima de  8 ANOS'\n",
      " 'Adulto e Pediátrico acima de  8 Anos' 'Pediátrico de 6 meses a <5 anos'\n",
      " 'Pediátrico de 5 a menor de 12 anos de idade'\n",
      " 'Pediátrico de 5 a menor de 12 anos'\n",
      " 'Adulto e Pediátrico acima de  1 ano de idade'\n",
      " 'Adulto e Pediátrico acima de  6 anos e >= 40kg'\n",
      " 'Adulto e Pediátrico acima de  3 anos e acima ou igual a 40 kg'\n",
      " 'Adulto e Pediátrico acima de  1o anos'\n",
      " 'Adulto e Pediátrico acima de  3 ANOS'\n",
      " 'Adulto e Pediátrico acima de  acima de 12 anos'\n",
      " 'Adulto e Pediátrico acima de  6 MESES'\n",
      " 'Adulto e Pediátrico acima de  15 anos de idade'\n",
      " 'Adulto e Pediátrico acima de   14 anos'\n",
      " 'Adulto e Pediátrico acima de  14 KG'\n",
      " 'Adulto e Pediátrico acima de   3 meses' 'Pediátrico acima de 1 mês'\n",
      " 'Adulto e Pediátrico acima de   6 anos'\n",
      " 'Adulto e Pediátrico somente devem ser administrados a pacientes pediátricos menores de 2\\r\\nanos de idade sob prescrição médica'\n",
      " 'Adulto e Pediátrico acima de  12anos' 'Adulto acima de 18 anos de idade'\n",
      " 'Adulto e Pediátrico acima de  12 anos (apenas para tratamento de epilepsia)'\n",
      " 'Adulto e Pediátrico (9 A 45 ANOS DE IDADE)'\n",
      " 'Adulto e Pediátrico acima de  06 ANOS' 'Pediátrico acima de 10 anos'\n",
      " 'Adulto e Pediátrico acima de  12ANOS' 'Adulto e Pediátrico acima de  2'\n",
      " 'Pediátrico acima de 6 meses'\n",
      " 'Adulto e Pediátrico a partir de 2 meses de idade'\n",
      " 'Adulto e Pediátrico acima de  10kg' 'Adulto acima de 25 anos'\n",
      " 'Adulto e Pediátrico acima de  6  anos'\n",
      " 'Adulto e Pediátrico acima de  12 anos ou acima de 35 Kg'\n",
      " 'Adulto e Pediátrico acima de  1 MÊS OU 6 MESES'\n",
      " 'Pediátrico (neonatos prematuros com idade gestacional não superior a 30 semanas)'\n",
      " 'Adulto e Pediátrico acima de 6 semanas de idade'\n",
      " 'Adulto e Pediátrico dos 4 aos 60 anos'\n",
      " 'Adulto e Pediátrico acima de  13 anos'\n",
      " 'Adulto e Pediátrico acima de  1 a 17 anos'\n",
      " 'Adulto e Pediátrico acima de  1 mês de idade'\n",
      " 'Adulto e Pediátrico acima de  10 Anos'\n",
      " 'Pediátrico (De 6 a 32 semanas de idade)'\n",
      " 'Adulto e Pediátrico acima de  12'\n",
      " 'Adulto e Pediátrico acima de  4 semanas acima 3 kg'\n",
      " 'Pediátrico acima de 6 Anos' 'Adulto acima de 10 anos *'\n",
      " 'Adulto e Pediátrico acima de  um mês de idade'\n",
      " 'Adulto e Pediátrico acima de   12 anos' 'Pediátrico acima de 11 MESES'\n",
      " 'Adulto e Pediátrico acima de  24 meses'\n",
      " 'Adulto e Pediátrico acima de  6 semanas de idade'\n",
      " 'Adulto acima de 2 anos' 'Adulto e Pediátrico acima de 12 anos'\n",
      " 'Adulto e Pediátrico ACIMA DE 12 ANOS'\n",
      " 'Adulto e Pediátrico A PARTIR DE 9 MESES'\n",
      " 'Adulto e Pediátrico Acima de 6 anos'\n",
      " 'Adulto e Pediátrico acima de  05 anos'\n",
      " 'Adulto e Pediátrico acima de  40 Kg'\n",
      " 'Adulto e Pediátrico acima de  02 MEESES'\n",
      " 'Adulto e Pediátrico acima de  6 semanas' 'Adulto acima de 14 anos'\n",
      " 'Adulto e Pediátrico acima de  15' 'Pediátrico acima de 02 Anos'\n",
      " 'Adulto acima de 18' 'Adulto e Pediátrico acima de  3 anos de idade'\n",
      " 'Adulto e Pediátrico acima de  40 kg'\n",
      " 'Adulto e Pediátrico acima de  03 MESES'\n",
      " 'Adulto e Pediátrico acima de  3,3 kg'\n",
      " 'Adulto e Pediátrico acima de  2 MESES'\n",
      " 'Adulto e Pediátrico acima de  2 dias de vida'\n",
      " 'Adulto e Pediátrico acima de  16 Anos'\n",
      " 'Adulto e Pediátrico acima de  25' 'Adulto acima de 25'\n",
      " 'Adulto acima de 12 anos de idade'\n",
      " 'Adulto e Pediátrico acima de  12 MESES'\n",
      " 'Adulto e Pediátrico acima de  7 anos'\n",
      " 'Adulto e Pediátrico acima de  06anos'\n",
      " 'Adulto e Pediátrico acima de  4 anos de idade'\n",
      " 'Adulto e Pediátrico acima de  6 Meses'\n",
      " 'Adulto e Pediátrico acima de  12 meses' 'Pediátrico acima de 12 anos'\n",
      " 'Adulto e Pediátrico acima de  6 Anos' 'Pediátrico acima de 6 a 11 anos'\n",
      " 'Adulto e Pediátrico acima de   6 meses de idade'\n",
      " 'Adulto e Pediátrico acima de  13,5 kg'\n",
      " 'Adulto e Pediátrico acima de 6 anos'\n",
      " 'Adulto e Pediátrico acima de  9 meses de idade'\n",
      " 'Adulto e Pediátrico com idade maior ou igual a 28 dias e pesando 3kg ou mais'\n",
      " 'Adulto e Pediátrico acima de 2 anos de idade' 'Adulto acima de 6 ANOS'\n",
      " 'Adulto e Pediátrico acima de  10-17 anos' 'Adulto acima de 3 aNOS'\n",
      " 'Adulto e Pediátrico acima de  10 anos ( vide indicações)'\n",
      " 'Pediátrico de 6 a 11 anos (com peso corporal mínimo de 20 kg)'\n",
      " 'Pediátrico acima de 1 ano de idade' 'Pediátrico acima de 15 anos'\n",
      " 'Adulto e Pediátrico acima de  14kg'\n",
      " 'Adulto e Pediátrico acima de  02 (dois) anos'\n",
      " 'Adulto e Pediátrico acima de  02 meses' 'Pediátrico acima de 3 meses']\n"
     ]
    }
   ],
   "source": [
    "print(df_final.restricaoUso.unique())\n"
   ]
  },
  {
   "cell_type": "code",
   "execution_count": 38,
   "id": "03907e40",
   "metadata": {},
   "outputs": [
    {
     "name": "stdout",
     "output_type": "stream",
     "text": [
      "['S' 'N' None nan]\n"
     ]
    }
   ],
   "source": [
    "print(df_final.restricaoHospitais.unique())\n"
   ]
  },
  {
   "cell_type": "code",
   "execution_count": 39,
   "id": "dd200a1c",
   "metadata": {},
   "outputs": [
    {
     "data": {
      "text/html": [
       "<div>\n",
       "<style scoped>\n",
       "    .dataframe tbody tr th:only-of-type {\n",
       "        vertical-align: middle;\n",
       "    }\n",
       "\n",
       "    .dataframe tbody tr th {\n",
       "        vertical-align: top;\n",
       "    }\n",
       "\n",
       "    .dataframe thead th {\n",
       "        text-align: right;\n",
       "    }\n",
       "</style>\n",
       "<table border=\"1\" class=\"dataframe\">\n",
       "  <thead>\n",
       "    <tr style=\"text-align: right;\">\n",
       "      <th></th>\n",
       "      <th>restricaoHospitais</th>\n",
       "      <th>numeroProcesso</th>\n",
       "      <th>restricaoUso</th>\n",
       "    </tr>\n",
       "  </thead>\n",
       "  <tbody>\n",
       "    <tr>\n",
       "      <th>0</th>\n",
       "      <td>S</td>\n",
       "      <td>25351771065201417</td>\n",
       "      <td>Adulto</td>\n",
       "    </tr>\n",
       "    <tr>\n",
       "      <th>1</th>\n",
       "      <td>S</td>\n",
       "      <td>25351771065201417</td>\n",
       "      <td>Adulto</td>\n",
       "    </tr>\n",
       "    <tr>\n",
       "      <th>2</th>\n",
       "      <td>S</td>\n",
       "      <td>25351771065201417</td>\n",
       "      <td>Adulto</td>\n",
       "    </tr>\n",
       "    <tr>\n",
       "      <th>3</th>\n",
       "      <td>N</td>\n",
       "      <td>25351843204202031</td>\n",
       "      <td>Adulto</td>\n",
       "    </tr>\n",
       "    <tr>\n",
       "      <th>4</th>\n",
       "      <td>N</td>\n",
       "      <td>25351843204202031</td>\n",
       "      <td>Adulto</td>\n",
       "    </tr>\n",
       "    <tr>\n",
       "      <th>...</th>\n",
       "      <td>...</td>\n",
       "      <td>...</td>\n",
       "      <td>...</td>\n",
       "    </tr>\n",
       "    <tr>\n",
       "      <th>219702</th>\n",
       "      <td>NaN</td>\n",
       "      <td>25351378833202167</td>\n",
       "      <td>NaN</td>\n",
       "    </tr>\n",
       "    <tr>\n",
       "      <th>219703</th>\n",
       "      <td>NaN</td>\n",
       "      <td>25351540996202256</td>\n",
       "      <td>NaN</td>\n",
       "    </tr>\n",
       "    <tr>\n",
       "      <th>219704</th>\n",
       "      <td>NaN</td>\n",
       "      <td>25351640125202151</td>\n",
       "      <td>NaN</td>\n",
       "    </tr>\n",
       "    <tr>\n",
       "      <th>219705</th>\n",
       "      <td>NaN</td>\n",
       "      <td>25351140602202263</td>\n",
       "      <td>NaN</td>\n",
       "    </tr>\n",
       "    <tr>\n",
       "      <th>219706</th>\n",
       "      <td>NaN</td>\n",
       "      <td>25351640147202111</td>\n",
       "      <td>NaN</td>\n",
       "    </tr>\n",
       "  </tbody>\n",
       "</table>\n",
       "<p>219707 rows × 3 columns</p>\n",
       "</div>"
      ],
      "text/plain": [
       "       restricaoHospitais     numeroProcesso restricaoUso\n",
       "0                       S  25351771065201417       Adulto\n",
       "1                       S  25351771065201417       Adulto\n",
       "2                       S  25351771065201417       Adulto\n",
       "3                       N  25351843204202031       Adulto\n",
       "4                       N  25351843204202031       Adulto\n",
       "...                   ...                ...          ...\n",
       "219702                NaN  25351378833202167          NaN\n",
       "219703                NaN  25351540996202256          NaN\n",
       "219704                NaN  25351640125202151          NaN\n",
       "219705                NaN  25351140602202263          NaN\n",
       "219706                NaN  25351640147202111          NaN\n",
       "\n",
       "[219707 rows x 3 columns]"
      ]
     },
     "execution_count": 39,
     "metadata": {},
     "output_type": "execute_result"
    }
   ],
   "source": [
    "df_final[['restricaoHospitais','numeroProcesso','restricaoUso']]"
   ]
  },
  {
   "cell_type": "markdown",
   "id": "2e37d8bd",
   "metadata": {},
   "source": [
    "para las columnas restricaoHospitais y restricaoUso, indican si tienen restriccion para solo uso hopitalario y para restricción de uso muy especifico por ejemplo por edad. las columnas vacias pueden indicar que no tiene restricción de uso o el sistema no lo indica. por lo cual se recomienda trabajar como \"no indica\" por que se debe tener cuidado con este dato. el % no supera el 30% por lo que se puede trabajar teniendo en cuenta como un impacto modera que puede afectar el analisis."
   ]
  },
  {
   "cell_type": "code",
   "execution_count": 40,
   "id": "e28aefb1",
   "metadata": {},
   "outputs": [
    {
     "data": {
      "text/plain": [
       "{'fabricante': 'Extrasul extratos animais e vegetais ltda',\n",
       " 'cnpj': '76055599000122',\n",
       " 'pais': 'BRASIL',\n",
       " 'uf': 'PR',\n",
       " 'cidade': 'JAGUAPITÃ',\n",
       " 'etapaFabricacao': 'Produção do produto intermediário'}"
      ]
     },
     "execution_count": 40,
     "metadata": {},
     "output_type": "execute_result"
    }
   ],
   "source": [
    "df_final.fabricantesNacionais[200]"
   ]
  },
  {
   "cell_type": "code",
   "execution_count": 41,
   "id": "559679fc",
   "metadata": {},
   "outputs": [
    {
     "data": {
      "text/plain": [
       "(219707, 50)"
      ]
     },
     "execution_count": 41,
     "metadata": {},
     "output_type": "execute_result"
    }
   ],
   "source": [
    "df_final.shape"
   ]
  },
  {
   "cell_type": "code",
   "execution_count": 42,
   "id": "d7de552c",
   "metadata": {},
   "outputs": [
    {
     "name": "stdout",
     "output_type": "stream",
     "text": [
      "   id   codigo numeroRegistro             nomeProduto     numeroProcesso  \\\n",
      "0   1  1012584      188300060       ácido zoledrônico  25351771065201417   \n",
      "1   1  1012584      188300060       ácido zoledrônico  25351771065201417   \n",
      "2   1  1012584      188300060       ácido zoledrônico  25351771065201417   \n",
      "3   2  1595612      123520278  ácido ursodesoxicólico  25351843204202031   \n",
      "4   2  1595612      123520278  ácido ursodesoxicólico  25351843204202031   \n",
      "\n",
      "                           empresaNome     empresaCnpj  \\\n",
      "0  VIATRIS FARMACEUTICA DO BRASIL LTDA  11643096000122   \n",
      "1  VIATRIS FARMACEUTICA DO BRASIL LTDA  11643096000122   \n",
      "2  VIATRIS FARMACEUTICA DO BRASIL LTDA  11643096000122   \n",
      "3            RANBAXY FARMACÊUTICA LTDA  73663650000190   \n",
      "4            RANBAXY FARMACÊUTICA LTDA  73663650000190   \n",
      "\n",
      "                   principioAtivo                   tarja  \\\n",
      "0  ÁCIDO ZOLEDRÔNICO MONOIDRATADO  Vermelha sob restrição   \n",
      "1  ÁCIDO ZOLEDRÔNICO MONOIDRATADO  Vermelha sob restrição   \n",
      "2  ÁCIDO ZOLEDRÔNICO MONOIDRATADO  Vermelha sob restrição   \n",
      "3          ÁCIDO URSODESOXICÓLICO                Vermelha   \n",
      "4          ÁCIDO URSODESOXICÓLICO                Vermelha   \n",
      "\n",
      "  medicamentoReferencia  ... fabricantesNacionais_cnpj  \\\n",
      "0                ZOMETA  ...                       NaN   \n",
      "1                ZOMETA  ...                       NaN   \n",
      "2                ZOMETA  ...                       NaN   \n",
      "3              Ursacol®  ...                       NaN   \n",
      "4              Ursacol®  ...                       NaN   \n",
      "\n",
      "  fabricantesNacionais_pais fabricantesNacionais_uf  \\\n",
      "0                       NaN                     NaN   \n",
      "1                       NaN                     NaN   \n",
      "2                       NaN                     NaN   \n",
      "3                       NaN                     NaN   \n",
      "4                       NaN                     NaN   \n",
      "\n",
      "  fabricantesNacionais_cidade fabricantesNacionais_etapaFabricacao  \\\n",
      "0                         NaN                                  NaN   \n",
      "1                         NaN                                  NaN   \n",
      "2                         NaN                                  NaN   \n",
      "3                         NaN                                  NaN   \n",
      "4                         NaN                                  NaN   \n",
      "\n",
      "     fabricantesInternacionais_fabricante  \\\n",
      "0        MYLAN LABORATORIES LIMITED [OTL]   \n",
      "1        MYLAN LABORATORIES LIMITED [OTL]   \n",
      "2        MYLAN LABORATORIES LIMITED [OTL]   \n",
      "3  SUN PHARMACEUTICAL INDUSTRIES LIMITED.   \n",
      "4  SUN PHARMACEUTICAL INDUSTRIES LIMITED.   \n",
      "\n",
      "                  fabricantesInternacionais_endereco  \\\n",
      "0  PLOT N° 284-B, BOMMASANDRA, JIGANI LINK ROAD, ...   \n",
      "1  PLOT N° 284-B, BOMMASANDRA, JIGANI LINK ROAD, ...   \n",
      "2  PLOT N° 284-B, BOMMASANDRA, JIGANI LINK ROAD, ...   \n",
      "3  VILLAGE GANGUWALA, PAONTA SAHIB 173 025, DISTR...   \n",
      "4  VILLAGE GANGUWALA, PAONTA SAHIB 173 025, DISTR...   \n",
      "\n",
      "  fabricantesInternacionais_pais fabricantesInternacionais_etapaFabricacao  \\\n",
      "0                          ÍNDIA              Processo produtivo completo    \n",
      "1                          ÍNDIA              Processo produtivo completo    \n",
      "2                          ÍNDIA              Processo produtivo completo    \n",
      "3                          ÍNDIA              Processo produtivo completo    \n",
      "4                          ÍNDIA              Processo produtivo completo    \n",
      "\n",
      "  fabricantesInternacionais_codigoUnico  \n",
      "0                               A000463  \n",
      "1                               A000463  \n",
      "2                               A000463  \n",
      "3                               A000928  \n",
      "4                               A000928  \n",
      "\n",
      "[5 rows x 59 columns]\n"
     ]
    }
   ],
   "source": [
    "# -------------------------\n",
    "# Expandir fabricantes nacionais\n",
    "# -------------------------\n",
    "fabricantes_nac = pd.json_normalize(df_final[\"fabricantesNacionais\"])\n",
    "fabricantes_nac = fabricantes_nac.add_prefix(\"fabricantesNacionais_\")\n",
    "\n",
    "# -------------------------\n",
    "# Expandir fabricantes internacionais\n",
    "# -------------------------\n",
    "fabricantes_int = pd.json_normalize(df_final[\"fabricantesInternacionais\"])\n",
    "fabricantes_int = fabricantes_int.add_prefix(\"fabricantesInternacionais_\")\n",
    "\n",
    "# -------------------------\n",
    "# Concatenar todo al dataframe original\n",
    "# -------------------------\n",
    "df_final_expandido = pd.concat(\n",
    "    [df_final.drop(columns=[\"fabricantesNacionais\", \"fabricantesInternacionais\"]),\n",
    "     fabricantes_nac,\n",
    "     fabricantes_int],\n",
    "    axis=1\n",
    ")\n",
    "\n",
    "# Verificar resultado\n",
    "print(df_final_expandido.head())\n",
    "\n"
   ]
  },
  {
   "cell_type": "code",
   "execution_count": 43,
   "id": "7b94a274",
   "metadata": {},
   "outputs": [
    {
     "data": {
      "text/plain": [
       "(219707, 59)"
      ]
     },
     "execution_count": 43,
     "metadata": {},
     "output_type": "execute_result"
    }
   ],
   "source": [
    "df_final_expandido.shape"
   ]
  },
  {
   "cell_type": "markdown",
   "id": "c2c6aa15",
   "metadata": {},
   "source": [
    "* como se identifico que en la columna fabricantesNacionais contenia diccionarios de fabricantes se expandio y concateno para continuar con la revisión.\n",
    "* se suposo que para fabricantes internacionales sucedia lo mismo por lo que tambien se expandio"
   ]
  },
  {
   "cell_type": "code",
   "execution_count": 44,
   "id": "c1915796",
   "metadata": {},
   "outputs": [
    {
     "data": {
      "image/png": "[encoded data removed]",
      "text/plain": [
       "<Figure size 640x480 with 1 Axes>"
      ]
     },
     "metadata": {},
     "output_type": "display_data"
    }
   ],
   "source": [
    "ax = (\n",
    "    df_final_expandido.iloc[:, -12:]\n",
    "    .isnull().\n",
    "    transpose()\n",
    "    .pipe(\n",
    "        lambda df: (\n",
    "            sns.heatmap(\n",
    "                data=df,\n",
    "                cbar=False,\n",
    "                cmap=cmap,\n",
    "            )\n",
    "        )\n",
    "    )\n",
    ")\n",
    "plt.title(\"Mapa de calor: Valores Nulos vs No Nulos de las columnas de fabricante\", fontsize=14, pad=20)\n",
    "\n",
    "\n",
    "legend_patches = [\n",
    "    mpatches.Patch(color=\"black\", label=\"No Nulo\"),\n",
    "    mpatches.Patch(color=\"lightgray\", label=\"Nulo\")\n",
    "]\n",
    "\n",
    "# Agregar la leyenda al gráfico\n",
    "plt.legend(\n",
    "    handles=legend_patches,\n",
    "    loc=\"upper right\",   \n",
    "    bbox_to_anchor=(1.25, 1)  \n",
    ")\n",
    "\n",
    "plt.show()"
   ]
  },
  {
   "cell_type": "code",
   "execution_count": 45,
   "id": "78cf3e9b",
   "metadata": {},
   "outputs": [
    {
     "name": "stdout",
     "output_type": "stream",
     "text": [
      "                                            nulos  porcentaje\n",
      "fabricantesInternacionais_etapaFabricacao  186330   84.808404\n",
      "fabricantesInternacionais_codigoUnico      180610   82.204937\n",
      "fabricantesInternacionais_endereco         171138   77.893740\n",
      "fabricantesInternacionais_pais             164473   74.860155\n",
      "fabricantesInternacionais_fabricante       164473   74.860155\n",
      "fabricantesNacionais_etapaFabricacao       114488   52.109400\n",
      "fabricantesNacionais_fabricante             59838   27.235363\n",
      "fabricantesNacionais_pais                   59838   27.235363\n",
      "fabricantesNacionais_cnpj                   59838   27.235363\n",
      "fabricantesNacionais_uf                     59838   27.235363\n",
      "fabricantesNacionais_cidade                 59838   27.235363\n"
     ]
    }
   ],
   "source": [
    "missing_info = (\n",
    "    df_final_expandido.iloc[:, -11:]\n",
    ".isnull().sum()\n",
    "    .to_frame(\"nulos\")\n",
    "    .assign(porcentaje=lambda x: x.nulos / len(df_final) * 100)\n",
    "    .sort_values(\"porcentaje\", ascending=False)\n",
    ")\n",
    "print(missing_info)"
   ]
  },
  {
   "cell_type": "markdown",
   "id": "9592be17",
   "metadata": {},
   "source": [
    "* El % de datos nulos respecto a fabricantes nacionales tiene un impacto moderado. sin embargo con los datos del bula se podria inferir cual es el fabricante, ademas puede haber una correlacion con los datos de los fabricantes internacionales asi que tambien podria reemplazarse por un dato que indique que es fabricado en el exterior"
   ]
  },
  {
   "cell_type": "code",
   "execution_count": 46,
   "id": "ff3d897b",
   "metadata": {},
   "outputs": [
    {
     "data": {
      "text/plain": [
       "['Venda sob prescrição médica com retenção de receita',\n",
       " 'Venda sob Prescrição Médica',\n",
       " nan,\n",
       " 'Venda sem Prescrição Médica',\n",
       " 'Venda Sob Prescrição Médica Sujeita a Notificação de Receita \"A\"',\n",
       " 'Venda Sob Receita de Controle Especial',\n",
       " 'Venda Sob Prescrição Médica Sujeita a Notificação de Receita \"B\"',\n",
       " 'Venda Sob Prescrição Médica Sujeita a Notificação de Receita \"B2\"',\n",
       " 'Dispensação Sujeita a Receituário do Programa DST/AIDS']"
      ]
     },
     "execution_count": 46,
     "metadata": {},
     "output_type": "execute_result"
    }
   ],
   "source": [
    "df_final_expandido.restricaoPrescricao.unique().tolist()"
   ]
  },
  {
   "cell_type": "markdown",
   "id": "5f7dda57",
   "metadata": {},
   "source": [
    "* El % de datos nulos tiene un un impacto moderado que podria manejarse revisando el dataset para verificar si corresponden a Venda sem Prescrição Médica\" (indica que no necesita preescripción)"
   ]
  },
  {
   "cell_type": "code",
   "execution_count": 47,
   "id": "00651600",
   "metadata": {},
   "outputs": [
    {
     "data": {
      "text/html": [
       "<div>\n",
       "<style scoped>\n",
       "    .dataframe tbody tr th:only-of-type {\n",
       "        vertical-align: middle;\n",
       "    }\n",
       "\n",
       "    .dataframe tbody tr th {\n",
       "        vertical-align: top;\n",
       "    }\n",
       "\n",
       "    .dataframe thead th {\n",
       "        text-align: right;\n",
       "    }\n",
       "</style>\n",
       "<table border=\"1\" class=\"dataframe\">\n",
       "  <thead>\n",
       "    <tr style=\"text-align: right;\">\n",
       "      <th></th>\n",
       "      <th>principiosAtivos</th>\n",
       "      <th>numeroProcesso</th>\n",
       "    </tr>\n",
       "  </thead>\n",
       "  <tbody>\n",
       "    <tr>\n",
       "      <th>0</th>\n",
       "      <td>ácido zoledrônico monoidratado</td>\n",
       "      <td>25351771065201417</td>\n",
       "    </tr>\n",
       "    <tr>\n",
       "      <th>1</th>\n",
       "      <td>ácido zoledrônico monoidratado</td>\n",
       "      <td>25351771065201417</td>\n",
       "    </tr>\n",
       "    <tr>\n",
       "      <th>2</th>\n",
       "      <td>ácido zoledrônico monoidratado</td>\n",
       "      <td>25351771065201417</td>\n",
       "    </tr>\n",
       "    <tr>\n",
       "      <th>3</th>\n",
       "      <td>ÁCIDO URSODESOXICÓLICO</td>\n",
       "      <td>25351843204202031</td>\n",
       "    </tr>\n",
       "    <tr>\n",
       "      <th>4</th>\n",
       "      <td>ÁCIDO URSODESOXICÓLICO</td>\n",
       "      <td>25351843204202031</td>\n",
       "    </tr>\n",
       "    <tr>\n",
       "      <th>...</th>\n",
       "      <td>...</td>\n",
       "      <td>...</td>\n",
       "    </tr>\n",
       "    <tr>\n",
       "      <th>219702</th>\n",
       "      <td>NaN</td>\n",
       "      <td>25351378833202167</td>\n",
       "    </tr>\n",
       "    <tr>\n",
       "      <th>219703</th>\n",
       "      <td>NaN</td>\n",
       "      <td>25351540996202256</td>\n",
       "    </tr>\n",
       "    <tr>\n",
       "      <th>219704</th>\n",
       "      <td>NaN</td>\n",
       "      <td>25351640125202151</td>\n",
       "    </tr>\n",
       "    <tr>\n",
       "      <th>219705</th>\n",
       "      <td>NaN</td>\n",
       "      <td>25351140602202263</td>\n",
       "    </tr>\n",
       "    <tr>\n",
       "      <th>219706</th>\n",
       "      <td>NaN</td>\n",
       "      <td>25351640147202111</td>\n",
       "    </tr>\n",
       "  </tbody>\n",
       "</table>\n",
       "<p>219707 rows × 2 columns</p>\n",
       "</div>"
      ],
      "text/plain": [
       "                      principiosAtivos     numeroProcesso\n",
       "0       ácido zoledrônico monoidratado  25351771065201417\n",
       "1       ácido zoledrônico monoidratado  25351771065201417\n",
       "2       ácido zoledrônico monoidratado  25351771065201417\n",
       "3               ÁCIDO URSODESOXICÓLICO  25351843204202031\n",
       "4               ÁCIDO URSODESOXICÓLICO  25351843204202031\n",
       "...                                ...                ...\n",
       "219702                             NaN  25351378833202167\n",
       "219703                             NaN  25351540996202256\n",
       "219704                             NaN  25351640125202151\n",
       "219705                             NaN  25351140602202263\n",
       "219706                             NaN  25351640147202111\n",
       "\n",
       "[219707 rows x 2 columns]"
      ]
     },
     "execution_count": 47,
     "metadata": {},
     "output_type": "execute_result"
    }
   ],
   "source": [
    "df_final_expandido[['principiosAtivos','numeroProcesso']]"
   ]
  },
  {
   "cell_type": "markdown",
   "id": "12af57b6",
   "metadata": {},
   "source": [
    "* las filas con \"principiosAtivos\" nulos se deben eliminar ya que es un dato muy importante para el analis y estos registros afectan directamente el análisis"
   ]
  },
  {
   "cell_type": "code",
   "execution_count": 48,
   "id": "014e0047",
   "metadata": {},
   "outputs": [],
   "source": [
    "df_clean = df_final_expandido.dropna(subset=[\"principiosAtivos\"])"
   ]
  },
  {
   "cell_type": "markdown",
   "id": "cb82ab61",
   "metadata": {},
   "source": [
    "### Las demas columnas pueden al tener una magnitud menor al 5% se puede continuar con el analisis y posteriormente verificar si son necesarios los datos o no lo son.\n",
    "por ahora se pueden categorizar como no indica"
   ]
  },
  {
   "cell_type": "markdown",
   "id": "5b3a5e5c",
   "metadata": {},
   "source": [
    "### Exportar datos\n"
   ]
  },
  {
   "cell_type": "code",
   "execution_count": 49,
   "id": "bcc1bb23",
   "metadata": {},
   "outputs": [
    {
     "data": {
      "text/html": [
       "<div>\n",
       "<style scoped>\n",
       "    .dataframe tbody tr th:only-of-type {\n",
       "        vertical-align: middle;\n",
       "    }\n",
       "\n",
       "    .dataframe tbody tr th {\n",
       "        vertical-align: top;\n",
       "    }\n",
       "\n",
       "    .dataframe thead th {\n",
       "        text-align: right;\n",
       "    }\n",
       "</style>\n",
       "<table border=\"1\" class=\"dataframe\">\n",
       "  <thead>\n",
       "    <tr style=\"text-align: right;\">\n",
       "      <th></th>\n",
       "      <th>id</th>\n",
       "      <th>codigo</th>\n",
       "      <th>numeroRegistro</th>\n",
       "      <th>nomeProduto</th>\n",
       "      <th>numeroProcesso</th>\n",
       "      <th>empresaNome</th>\n",
       "      <th>empresaCnpj</th>\n",
       "      <th>principioAtivo</th>\n",
       "      <th>tarja</th>\n",
       "      <th>medicamentoReferencia</th>\n",
       "      <th>...</th>\n",
       "      <th>fabricantesNacionais_cnpj</th>\n",
       "      <th>fabricantesNacionais_pais</th>\n",
       "      <th>fabricantesNacionais_uf</th>\n",
       "      <th>fabricantesNacionais_cidade</th>\n",
       "      <th>fabricantesNacionais_etapaFabricacao</th>\n",
       "      <th>fabricantesInternacionais_fabricante</th>\n",
       "      <th>fabricantesInternacionais_endereco</th>\n",
       "      <th>fabricantesInternacionais_pais</th>\n",
       "      <th>fabricantesInternacionais_etapaFabricacao</th>\n",
       "      <th>fabricantesInternacionais_codigoUnico</th>\n",
       "    </tr>\n",
       "  </thead>\n",
       "  <tbody>\n",
       "    <tr>\n",
       "      <th>0</th>\n",
       "      <td>1</td>\n",
       "      <td>1012584</td>\n",
       "      <td>188300060</td>\n",
       "      <td>ácido zoledrônico</td>\n",
       "      <td>25351771065201417</td>\n",
       "      <td>VIATRIS FARMACEUTICA DO BRASIL LTDA</td>\n",
       "      <td>11643096000122</td>\n",
       "      <td>ÁCIDO ZOLEDRÔNICO MONOIDRATADO</td>\n",
       "      <td>Vermelha sob restrição</td>\n",
       "      <td>ZOMETA</td>\n",
       "      <td>...</td>\n",
       "      <td>NaN</td>\n",
       "      <td>NaN</td>\n",
       "      <td>NaN</td>\n",
       "      <td>NaN</td>\n",
       "      <td>NaN</td>\n",
       "      <td>MYLAN LABORATORIES LIMITED [OTL]</td>\n",
       "      <td>PLOT N° 284-B, BOMMASANDRA, JIGANI LINK ROAD, ...</td>\n",
       "      <td>ÍNDIA</td>\n",
       "      <td>Processo produtivo completo</td>\n",
       "      <td>A000463</td>\n",
       "    </tr>\n",
       "    <tr>\n",
       "      <th>1</th>\n",
       "      <td>1</td>\n",
       "      <td>1012584</td>\n",
       "      <td>188300060</td>\n",
       "      <td>ácido zoledrônico</td>\n",
       "      <td>25351771065201417</td>\n",
       "      <td>VIATRIS FARMACEUTICA DO BRASIL LTDA</td>\n",
       "      <td>11643096000122</td>\n",
       "      <td>ÁCIDO ZOLEDRÔNICO MONOIDRATADO</td>\n",
       "      <td>Vermelha sob restrição</td>\n",
       "      <td>ZOMETA</td>\n",
       "      <td>...</td>\n",
       "      <td>NaN</td>\n",
       "      <td>NaN</td>\n",
       "      <td>NaN</td>\n",
       "      <td>NaN</td>\n",
       "      <td>NaN</td>\n",
       "      <td>MYLAN LABORATORIES LIMITED [OTL]</td>\n",
       "      <td>PLOT N° 284-B, BOMMASANDRA, JIGANI LINK ROAD, ...</td>\n",
       "      <td>ÍNDIA</td>\n",
       "      <td>Processo produtivo completo</td>\n",
       "      <td>A000463</td>\n",
       "    </tr>\n",
       "    <tr>\n",
       "      <th>2</th>\n",
       "      <td>1</td>\n",
       "      <td>1012584</td>\n",
       "      <td>188300060</td>\n",
       "      <td>ácido zoledrônico</td>\n",
       "      <td>25351771065201417</td>\n",
       "      <td>VIATRIS FARMACEUTICA DO BRASIL LTDA</td>\n",
       "      <td>11643096000122</td>\n",
       "      <td>ÁCIDO ZOLEDRÔNICO MONOIDRATADO</td>\n",
       "      <td>Vermelha sob restrição</td>\n",
       "      <td>ZOMETA</td>\n",
       "      <td>...</td>\n",
       "      <td>NaN</td>\n",
       "      <td>NaN</td>\n",
       "      <td>NaN</td>\n",
       "      <td>NaN</td>\n",
       "      <td>NaN</td>\n",
       "      <td>MYLAN LABORATORIES LIMITED [OTL]</td>\n",
       "      <td>PLOT N° 284-B, BOMMASANDRA, JIGANI LINK ROAD, ...</td>\n",
       "      <td>ÍNDIA</td>\n",
       "      <td>Processo produtivo completo</td>\n",
       "      <td>A000463</td>\n",
       "    </tr>\n",
       "    <tr>\n",
       "      <th>3</th>\n",
       "      <td>2</td>\n",
       "      <td>1595612</td>\n",
       "      <td>123520278</td>\n",
       "      <td>ácido ursodesoxicólico</td>\n",
       "      <td>25351843204202031</td>\n",
       "      <td>RANBAXY FARMACÊUTICA LTDA</td>\n",
       "      <td>73663650000190</td>\n",
       "      <td>ÁCIDO URSODESOXICÓLICO</td>\n",
       "      <td>Vermelha</td>\n",
       "      <td>Ursacol®</td>\n",
       "      <td>...</td>\n",
       "      <td>NaN</td>\n",
       "      <td>NaN</td>\n",
       "      <td>NaN</td>\n",
       "      <td>NaN</td>\n",
       "      <td>NaN</td>\n",
       "      <td>SUN PHARMACEUTICAL INDUSTRIES LIMITED.</td>\n",
       "      <td>VILLAGE GANGUWALA, PAONTA SAHIB 173 025, DISTR...</td>\n",
       "      <td>ÍNDIA</td>\n",
       "      <td>Processo produtivo completo</td>\n",
       "      <td>A000928</td>\n",
       "    </tr>\n",
       "    <tr>\n",
       "      <th>4</th>\n",
       "      <td>2</td>\n",
       "      <td>1595612</td>\n",
       "      <td>123520278</td>\n",
       "      <td>ácido ursodesoxicólico</td>\n",
       "      <td>25351843204202031</td>\n",
       "      <td>RANBAXY FARMACÊUTICA LTDA</td>\n",
       "      <td>73663650000190</td>\n",
       "      <td>ÁCIDO URSODESOXICÓLICO</td>\n",
       "      <td>Vermelha</td>\n",
       "      <td>Ursacol®</td>\n",
       "      <td>...</td>\n",
       "      <td>NaN</td>\n",
       "      <td>NaN</td>\n",
       "      <td>NaN</td>\n",
       "      <td>NaN</td>\n",
       "      <td>NaN</td>\n",
       "      <td>SUN PHARMACEUTICAL INDUSTRIES LIMITED.</td>\n",
       "      <td>VILLAGE GANGUWALA, PAONTA SAHIB 173 025, DISTR...</td>\n",
       "      <td>ÍNDIA</td>\n",
       "      <td>Processo produtivo completo</td>\n",
       "      <td>A000928</td>\n",
       "    </tr>\n",
       "  </tbody>\n",
       "</table>\n",
       "<p>5 rows × 59 columns</p>\n",
       "</div>"
      ],
      "text/plain": [
       "   id   codigo numeroRegistro             nomeProduto     numeroProcesso  \\\n",
       "0   1  1012584      188300060       ácido zoledrônico  25351771065201417   \n",
       "1   1  1012584      188300060       ácido zoledrônico  25351771065201417   \n",
       "2   1  1012584      188300060       ácido zoledrônico  25351771065201417   \n",
       "3   2  1595612      123520278  ácido ursodesoxicólico  25351843204202031   \n",
       "4   2  1595612      123520278  ácido ursodesoxicólico  25351843204202031   \n",
       "\n",
       "                           empresaNome     empresaCnpj  \\\n",
       "0  VIATRIS FARMACEUTICA DO BRASIL LTDA  11643096000122   \n",
       "1  VIATRIS FARMACEUTICA DO BRASIL LTDA  11643096000122   \n",
       "2  VIATRIS FARMACEUTICA DO BRASIL LTDA  11643096000122   \n",
       "3            RANBAXY FARMACÊUTICA LTDA  73663650000190   \n",
       "4            RANBAXY FARMACÊUTICA LTDA  73663650000190   \n",
       "\n",
       "                   principioAtivo                   tarja  \\\n",
       "0  ÁCIDO ZOLEDRÔNICO MONOIDRATADO  Vermelha sob restrição   \n",
       "1  ÁCIDO ZOLEDRÔNICO MONOIDRATADO  Vermelha sob restrição   \n",
       "2  ÁCIDO ZOLEDRÔNICO MONOIDRATADO  Vermelha sob restrição   \n",
       "3          ÁCIDO URSODESOXICÓLICO                Vermelha   \n",
       "4          ÁCIDO URSODESOXICÓLICO                Vermelha   \n",
       "\n",
       "  medicamentoReferencia  ... fabricantesNacionais_cnpj  \\\n",
       "0                ZOMETA  ...                       NaN   \n",
       "1                ZOMETA  ...                       NaN   \n",
       "2                ZOMETA  ...                       NaN   \n",
       "3              Ursacol®  ...                       NaN   \n",
       "4              Ursacol®  ...                       NaN   \n",
       "\n",
       "  fabricantesNacionais_pais fabricantesNacionais_uf  \\\n",
       "0                       NaN                     NaN   \n",
       "1                       NaN                     NaN   \n",
       "2                       NaN                     NaN   \n",
       "3                       NaN                     NaN   \n",
       "4                       NaN                     NaN   \n",
       "\n",
       "  fabricantesNacionais_cidade fabricantesNacionais_etapaFabricacao  \\\n",
       "0                         NaN                                  NaN   \n",
       "1                         NaN                                  NaN   \n",
       "2                         NaN                                  NaN   \n",
       "3                         NaN                                  NaN   \n",
       "4                         NaN                                  NaN   \n",
       "\n",
       "     fabricantesInternacionais_fabricante  \\\n",
       "0        MYLAN LABORATORIES LIMITED [OTL]   \n",
       "1        MYLAN LABORATORIES LIMITED [OTL]   \n",
       "2        MYLAN LABORATORIES LIMITED [OTL]   \n",
       "3  SUN PHARMACEUTICAL INDUSTRIES LIMITED.   \n",
       "4  SUN PHARMACEUTICAL INDUSTRIES LIMITED.   \n",
       "\n",
       "                  fabricantesInternacionais_endereco  \\\n",
       "0  PLOT N° 284-B, BOMMASANDRA, JIGANI LINK ROAD, ...   \n",
       "1  PLOT N° 284-B, BOMMASANDRA, JIGANI LINK ROAD, ...   \n",
       "2  PLOT N° 284-B, BOMMASANDRA, JIGANI LINK ROAD, ...   \n",
       "3  VILLAGE GANGUWALA, PAONTA SAHIB 173 025, DISTR...   \n",
       "4  VILLAGE GANGUWALA, PAONTA SAHIB 173 025, DISTR...   \n",
       "\n",
       "  fabricantesInternacionais_pais fabricantesInternacionais_etapaFabricacao  \\\n",
       "0                          ÍNDIA              Processo produtivo completo    \n",
       "1                          ÍNDIA              Processo produtivo completo    \n",
       "2                          ÍNDIA              Processo produtivo completo    \n",
       "3                          ÍNDIA              Processo produtivo completo    \n",
       "4                          ÍNDIA              Processo produtivo completo    \n",
       "\n",
       "  fabricantesInternacionais_codigoUnico  \n",
       "0                               A000463  \n",
       "1                               A000463  \n",
       "2                               A000463  \n",
       "3                               A000928  \n",
       "4                               A000928  \n",
       "\n",
       "[5 rows x 59 columns]"
      ]
     },
     "execution_count": 49,
     "metadata": {},
     "output_type": "execute_result"
    }
   ],
   "source": [
    "df_clean.head()"
   ]
  },
  {
   "cell_type": "code",
   "execution_count": 50,
   "id": "4e156aa2",
   "metadata": {},
   "outputs": [
    {
     "data": {
      "text/plain": [
       "id                                             int64\n",
       "codigo                                        object\n",
       "numeroRegistro                                object\n",
       "nomeProduto                                   object\n",
       "numeroProcesso                                object\n",
       "empresaNome                                   object\n",
       "empresaCnpj                                   object\n",
       "principioAtivo                                object\n",
       "tarja                                         object\n",
       "medicamentoReferencia                         object\n",
       "classesTerapeuticas                           object\n",
       "bula_txt                                      object\n",
       "bula_pdf                                      object\n",
       "bula_txt_profissional                         object\n",
       "bula_pdf_profissional                         object\n",
       "categoriaRegulatoria                          object\n",
       "situacaoRegistro                              object\n",
       "dataProduto                                   object\n",
       "dataVencimentoRegistro                        object\n",
       "dataPublicacao                                object\n",
       "indicacao                                     object\n",
       "apresentacoes.codigo                         float64\n",
       "apresentacao                                  object\n",
       "formasFarmaceuticas                           object\n",
       "numero                                       float64\n",
       "apresentacoes.dataPublicacao                  object\n",
       "validade                                      object\n",
       "tipoValidade                                  object\n",
       "registro                                      object\n",
       "principiosAtivos                              object\n",
       "qtdUnidadeMedida                              object\n",
       "embalagemPrimariaTodas                        object\n",
       "embalagemSecundariaTodas                      object\n",
       "viasAdministracao                             object\n",
       "ifaUnico                                      object\n",
       "conservacao                                   object\n",
       "restricaoPrescricao                           object\n",
       "restricaoUso                                  object\n",
       "destinacao                                    object\n",
       "restricaoHospitais                            object\n",
       "apresentacoes.tarja                           object\n",
       "apresentacoes.medicamentoReferencia           object\n",
       "apresentacaoFracionada                        object\n",
       "tipoAutorizacao                               object\n",
       "ativa                                         object\n",
       "emAnalise                                     object\n",
       "inativa                                       object\n",
       "embalagemSecundaria.tipo                      object\n",
       "fabricantesNacionais_fabricante               object\n",
       "fabricantesNacionais_cnpj                     object\n",
       "fabricantesNacionais_pais                     object\n",
       "fabricantesNacionais_uf                       object\n",
       "fabricantesNacionais_cidade                   object\n",
       "fabricantesNacionais_etapaFabricacao          object\n",
       "fabricantesInternacionais_fabricante          object\n",
       "fabricantesInternacionais_endereco            object\n",
       "fabricantesInternacionais_pais                object\n",
       "fabricantesInternacionais_etapaFabricacao     object\n",
       "fabricantesInternacionais_codigoUnico         object\n",
       "dtype: object"
      ]
     },
     "execution_count": 50,
     "metadata": {},
     "output_type": "execute_result"
    }
   ],
   "source": [
    "df_clean.dtypes"
   ]
  },
  {
   "cell_type": "code",
   "execution_count": 51,
   "id": "d89e15b0",
   "metadata": {},
   "outputs": [
    {
     "name": "stderr",
     "output_type": "stream",
     "text": [
      "/tmp/ipykernel_99063/2175063590.py:2: SettingWithCopyWarning: \n",
      "A value is trying to be set on a copy of a slice from a DataFrame.\n",
      "Try using .loc[row_indexer,col_indexer] = value instead\n",
      "\n",
      "See the caveats in the documentation: https://pandas.pydata.org/pandas-docs/stable/user_guide/indexing.html#returning-a-view-versus-a-copy\n",
      "  df_clean[cols] = df_clean[cols].astype(\"object\")\n"
     ]
    }
   ],
   "source": [
    "\n",
    "cols = [\"numero\", \"id\", \"apresentacoes.codigo\"]\n",
    "df_clean[cols] = df_clean[cols].astype(\"object\")"
   ]
  },
  {
   "cell_type": "code",
   "execution_count": null,
   "id": "6915e798",
   "metadata": {},
   "outputs": [
    {
     "data": {
      "text/plain": [
       "object    59\n",
       "Name: count, dtype: int64"
      ]
     },
     "execution_count": 52,
     "metadata": {},
     "output_type": "execute_result"
    },
    {
     "ename": "",
     "evalue": "",
     "output_type": "error",
     "traceback": [
      "\u001b[1;31mEl kernel se bloqueó al ejecutar código en la celda actual o en una celda anterior. \n",
      "\u001b[1;31mRevise el código de las celdas para identificar una posible causa del error. \n",
      "\u001b[1;31mHaga clic <a href='https://aka.ms/vscodeJupyterKernelCrash'>aquí</a> para obtener más información. \n",
      "\u001b[1;31mVea Jupyter <a href='command:jupyter.viewOutput'>log</a> para obtener más detalles."
     ]
    }
   ],
   "source": [
    "(\n",
    "    df_clean.dtypes.value_counts()\n",
    ")"
   ]
  },
  {
   "cell_type": "code",
   "execution_count": null,
   "id": "7c563715",
   "metadata": {},
   "outputs": [],
   "source": [
    "df_clean.to_json(\"df_revision_valores_faltantes.json\", orient=\"records\", force_ascii=False)\n"
   ]
  }
 ],
 "metadata": {
  "kernelspec": {
   "display_name": "EDA",
   "language": "python",
   "name": "python3"
  },
  "language_info": {
   "codemirror_mode": {
    "name": "ipython",
    "version": 3
   },
   "file_extension": ".py",
   "mimetype": "text/x-python",
   "name": "python",
   "nbconvert_exporter": "python",
   "pygments_lexer": "ipython3",
   "version": "3.13.7"
  }
 },
 "nbformat": 4,
 "nbformat_minor": 5
}
