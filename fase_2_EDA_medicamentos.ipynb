{
 "cells": [
  {
   "cell_type": "markdown",
   "id": "24aca901",
   "metadata": {},
   "source": [
    "# **Fase 2: Análisis Exploratorio de Datos (EDA)**"
   ]
  },
  {
   "cell_type": "markdown",
   "id": "443f4974",
   "metadata": {},
   "source": [
    "### Cargar datos"
   ]
  },
  {
   "cell_type": "code",
   "execution_count": null,
   "id": "23357026",
   "metadata": {},
   "outputs": [],
   "source": [
    "import geopandas as gpd\n",
    "import matplotlib.pyplot as plt\n",
    "from shapely.geometry import box"
   ]
  },
  {
   "cell_type": "code",
   "execution_count": null,
   "id": "8630837a",
   "metadata": {},
   "outputs": [],
   "source": [
    "gdf = gpd.read_file(\"\")\n"
   ]
  }
 ],
 "metadata": {
  "kernelspec": {
   "display_name": "EDA",
   "language": "python",
   "name": "python3"
  },
  "language_info": {
   "name": "python",
   "version": "3.13.7"
  }
 },
 "nbformat": 4,
 "nbformat_minor": 5
}
